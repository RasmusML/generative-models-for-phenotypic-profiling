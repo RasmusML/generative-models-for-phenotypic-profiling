{
 "cells": [
  {
   "cell_type": "markdown",
   "metadata": {
    "cell_id": "589e16cc31d7401ab943b894769ae3c0",
    "deepnote_cell_type": "markdown"
   },
   "source": [
    "# Playground"
   ]
  },
  {
   "cell_type": "code",
   "execution_count": null,
   "metadata": {},
   "outputs": [],
   "source": [
    "%matplotlib inline\n",
    "%load_ext autoreload\n",
    "%autoreload 2\n",
    "\n",
    "import matplotlib.pyplot as plt"
   ]
  },
  {
   "cell_type": "code",
   "execution_count": null,
   "metadata": {
    "cell_id": "95880210fc7842e19a3c6c0fa352f78a",
    "deepnote_cell_type": "code",
    "deepnote_to_be_reexecuted": false,
    "execution_millis": 106,
    "execution_start": 1668534607328,
    "source_hash": "c057d76e"
   },
   "outputs": [],
   "source": [
    "from typing import List, Set, Dict, Tuple, Optional, Any\n",
    "from collections import defaultdict\n",
    "\n",
    "import pandas as pd\n",
    "import seaborn as sns\n",
    "import numpy as np\n",
    "\n",
    "import math \n",
    "import torch\n",
    "from torch import nn, Tensor\n",
    "from torch.nn.functional import softplus, relu\n",
    "from torch.distributions import Distribution, Normal\n",
    "from torch.utils.data import DataLoader, Dataset\n",
    "\n",
    "from gmfpp.utils.data_preparation import *\n",
    "from gmfpp.utils.data_transformers import *\n",
    "from gmfpp.utils.plotting import *\n",
    "from gmfpp.utils.training import *\n",
    "\n",
    "from gmfpp.models.ReparameterizedDiagonalGaussian import *\n",
    "from gmfpp.models.CytoVariationalAutoencoder import *\n",
    "from gmfpp.models.VariationalAutoencoder import *\n",
    "from gmfpp.models.ConvVariationalAutoencoder import *\n",
    "from gmfpp.models.VariationalInference import *\n",
    "from gmfpp.models.LoadModels import *"
   ]
  },
  {
   "cell_type": "code",
   "execution_count": 235,
   "metadata": {},
   "outputs": [],
   "source": [
    "constant_seed()"
   ]
  },
  {
   "cell_type": "code",
   "execution_count": 236,
   "metadata": {},
   "outputs": [
    {
     "name": "stdout",
     "output_type": "stream",
     "text": [
      "Using device: cpu\n"
     ]
    }
   ],
   "source": [
    "device = torch.device(\"cuda:0\" if torch.cuda.is_available() else \"cpu\")\n",
    "print(f\"Using device: {device}\")"
   ]
  },
  {
   "cell_type": "markdown",
   "metadata": {
    "cell_id": "5ccf34ec649449f9897718de613e77a3",
    "deepnote_cell_type": "markdown"
   },
   "source": [
    "## Load data"
   ]
  },
  {
   "cell_type": "code",
   "execution_count": 237,
   "metadata": {},
   "outputs": [],
   "source": [
    "metadata_all = read_metadata(\"./data/all/metadata.csv\")\n",
    "metadata_all = shuffle_metadata(metadata_all)"
   ]
  },
  {
   "cell_type": "code",
   "execution_count": 238,
   "metadata": {},
   "outputs": [],
   "source": [
    "metadata = metadata_all[:2000]"
   ]
  },
  {
   "cell_type": "code",
   "execution_count": 239,
   "metadata": {},
   "outputs": [],
   "source": [
    "metadata = shuffle_metadata(metadata)\n",
    "metadata_train, metadata_validation = split_metadata(metadata, split_fraction = .90)"
   ]
  },
  {
   "cell_type": "code",
   "execution_count": 240,
   "metadata": {
    "cell_id": "0a35af5f97ba47e2a7a51cb5919fc704",
    "deepnote_cell_type": "code",
    "deepnote_to_be_reexecuted": false,
    "execution_millis": 44,
    "execution_start": 1668533825380,
    "source_hash": "268f0f7"
   },
   "outputs": [],
   "source": [
    "relative_path = get_relative_image_paths(metadata)\n",
    "image_paths = [\"./data/all/\" + path for path in relative_path]"
   ]
  },
  {
   "cell_type": "code",
   "execution_count": 241,
   "metadata": {},
   "outputs": [
    {
     "name": "stdout",
     "output_type": "stream",
     "text": [
      "18:05:08 | loaded 0/2000 images (0.00%).\n",
      "18:05:12 | loaded 2000/2000 images (100.00%).\n"
     ]
    }
   ],
   "source": [
    "images = load_images(image_paths, verbose=True, log_every=10000)"
   ]
  },
  {
   "cell_type": "markdown",
   "metadata": {},
   "source": [
    "## Normalize data"
   ]
  },
  {
   "cell_type": "code",
   "execution_count": 242,
   "metadata": {},
   "outputs": [],
   "source": [
    "normalize_every_image_channels_seperately_inplace(images)\n",
    "#normalize_channels_inplace(images)"
   ]
  },
  {
   "cell_type": "code",
   "execution_count": 243,
   "metadata": {},
   "outputs": [
    {
     "name": "stdout",
     "output_type": "stream",
     "text": [
      "channel 0 interval: [0.02; 1.00]\n",
      "channel 1 interval: [0.01; 1.00]\n",
      "channel 2 interval: [0.01; 1.00]\n"
     ]
    }
   ],
   "source": [
    "channel_first = view_channel_dim_first(images)\n",
    "for i in range(channel_first.shape[0]):\n",
    "    channel = channel_first[i]\n",
    "    print(\"channel {} interval: [{:.2f}; {:.2f}]\".format(i, torch.min(channel), torch.max(channel)))"
   ]
  },
  {
   "cell_type": "markdown",
   "metadata": {},
   "source": [
    "## Prepare datasets"
   ]
  },
  {
   "cell_type": "code",
   "execution_count": 244,
   "metadata": {},
   "outputs": [],
   "source": [
    "class SingleCellDataset(Dataset):\n",
    "    \n",
    "    def __init__(self, metadata: pd.DataFrame, images: torch.Tensor, label_to_id: Dict[str, int]):\n",
    "        self.metadata = metadata\n",
    "        self.label_to_id = label_to_id\n",
    "        self.images = images\n",
    "        \n",
    "    def __len__(self):\n",
    "        return self.metadata.shape[0]\n",
    "\n",
    "    def __getitem__(self, idx):\n",
    "        row = self.metadata.iloc[idx]\n",
    "        \n",
    "        image_id = row.name\n",
    "        image = self.images[image_id]\n",
    "        \n",
    "        label_name = row[\"moa\"]\n",
    "        label = self.label_to_id[label_name]\n",
    "        \n",
    "        return image.detach(), label"
   ]
  },
  {
   "cell_type": "code",
   "execution_count": 245,
   "metadata": {},
   "outputs": [],
   "source": [
    "mapping = get_MOA_to_id()\n",
    "train_set = SingleCellDataset(metadata_train, images, mapping)\n",
    "validation_set = SingleCellDataset(metadata_validation, images, mapping)"
   ]
  },
  {
   "cell_type": "code",
   "execution_count": 246,
   "metadata": {},
   "outputs": [
    {
     "data": {
      "text/plain": [
       "1801"
      ]
     },
     "execution_count": 246,
     "metadata": {},
     "output_type": "execute_result"
    }
   ],
   "source": [
    "len(train_set)"
   ]
  },
  {
   "cell_type": "markdown",
   "metadata": {
    "cell_id": "768e10612c1d4ecd85db88848139700a",
    "deepnote_cell_type": "markdown"
   },
   "source": [
    "## VAE"
   ]
  },
  {
   "cell_type": "code",
   "execution_count": 247,
   "metadata": {},
   "outputs": [],
   "source": [
    "# start another training session\n",
    "vae, validation_data, training_data, VAE_settings = initVAEmodel(latent_features= 256,\n",
    "                                                                    beta = 1.,\n",
    "                                                                    num_epochs = 1000,\n",
    "                                                                    batch_size = min(32, len(train_set)),\n",
    "                                                                    learning_rate = 1e-3,\n",
    "                                                                    weight_decay = 10e-4,\n",
    "                                                                    image_shape = np.array([3, 68, 68]))"
   ]
  },
  {
   "cell_type": "code",
   "execution_count": 330,
   "metadata": {},
   "outputs": [],
   "source": [
    "#Or load an old\n",
    "#vae, validation_data, training_data, VAE_settings = LoadVAEmodel(\"model_dump\", '2022-11-21 - 13-30-35')\n",
    "#vae, validation_data, training_data, VAE_settings = LoadVAEmodel(\"./model_dump\", '2022-11-25 - 06-53-47')\n",
    "#vae, validation_data, training_data, VAE_settings = LoadVAEmodel(\"./model_dump\", '2022-11-25 - 16-43-05')\n",
    "#vae, validation_data, training_data, VAE_settings = LoadVAEmodel(\"./model_dump\", '2022-11-25 - 20-36-12')\n",
    "vae, validation_data, training_data, VAE_settings = LoadVAEmodel(\"./model_dump\", '2022-11-25 - 21-21-46')"
   ]
  },
  {
   "cell_type": "code",
   "execution_count": 265,
   "metadata": {},
   "outputs": [],
   "source": [
    "vae2 = vae"
   ]
  },
  {
   "cell_type": "code",
   "execution_count": 331,
   "metadata": {},
   "outputs": [],
   "source": [
    "vae = vae.to(device)\n",
    "optimizer = torch.optim.Adam(vae.parameters(), lr=VAE_settings['learning_rate'], weight_decay=VAE_settings['weight_decay'])\n",
    "\n",
    "vi = VariationalInference(beta=VAE_settings['beta'])"
   ]
  },
  {
   "cell_type": "code",
   "execution_count": 332,
   "metadata": {},
   "outputs": [],
   "source": [
    "train_loader = DataLoader(train_set, batch_size=VAE_settings['batch_size'], shuffle=True, num_workers=0, drop_last=True)\n",
    "validation_loader = DataLoader(validation_set, batch_size=len(validation_set), shuffle=False, num_workers=0, drop_last=False)\n",
    "train_batcher = TreatmentBalancedBatchGenerator(images, metadata_train)"
   ]
  },
  {
   "cell_type": "markdown",
   "metadata": {},
   "source": [
    "## Unbalanced training"
   ]
  },
  {
   "cell_type": "code",
   "execution_count": null,
   "metadata": {
    "cell_id": "bd5c4dfc160b4febbdaf2209398fde60",
    "deepnote_cell_type": "code",
    "deepnote_to_be_reexecuted": false,
    "execution_millis": 15978,
    "execution_start": 1668533848529,
    "source_hash": "8bd36839"
   },
   "outputs": [],
   "source": [
    "print_every = 10\n",
    "\n",
    "num_epochs = VAE_settings['num_epochs']\n",
    "batch_size = VAE_settings['batch_size']\n",
    "\n",
    "for epoch in range(num_epochs):\n",
    "\n",
    "    training_epoch_data = defaultdict(list)\n",
    "    \n",
    "    vae.train()\n",
    "\n",
    "    for x, _ in train_loader:\n",
    "        x = x.to(device)\n",
    "        \n",
    "        loss, diagnostics, outputs = vi(vae, x)\n",
    "\n",
    "        optimizer.zero_grad()\n",
    "        loss.backward()\n",
    "        nn.utils.clip_grad_norm_(vae.parameters(), 10_000)\n",
    "        optimizer.step()\n",
    "\n",
    "        for k, v in diagnostics.items():\n",
    "            training_epoch_data[k] += [v.mean().item()]\n",
    "\n",
    "\n",
    "    for k, v in training_epoch_data.items():\n",
    "        training_data[k] += [np.mean(training_epoch_data[k])]\n",
    "\n",
    "    with torch.no_grad():\n",
    "        vae.eval()\n",
    "        \n",
    "        validation_epoch_data = defaultdict(list)\n",
    "        \n",
    "        for x, _ in validation_loader:\n",
    "            x = x.to(device)\n",
    "          \n",
    "            loss, diagnostics, outputs = vi(vae, x)\n",
    "            \n",
    "            for k, v in diagnostics.items():\n",
    "                validation_epoch_data[k] += [v.mean().item()]\n",
    "\n",
    "        for k, v in diagnostics.items():\n",
    "            validation_data[k] += [np.mean(validation_epoch_data[k])]\n",
    "        \n",
    "    if epoch % print_every == 0:\n",
    "        print(f\"epoch: {epoch}/{num_epochs}\")  \n",
    "        print(\"training | elbo: {:2f}, log_px: {:.2f}, kl: {:.2f}:\".format(np.mean(training_epoch_data[\"elbo\"]), np.mean(training_epoch_data[\"log_px\"]), np.mean(training_epoch_data[\"kl\"])))\n",
    "        print(\"validation | elbo: {:2f}, log_px: {:.2f}, kl: {:.2f}:\".format(np.mean(validation_data[\"elbo\"]), np.mean(validation_data[\"log_px\"]), np.mean(validation_data[\"kl\"])))    \n"
   ]
  },
  {
   "cell_type": "markdown",
   "metadata": {},
   "source": [
    "## Balanced treatment training"
   ]
  },
  {
   "cell_type": "code",
   "execution_count": 257,
   "metadata": {},
   "outputs": [
    {
     "name": "stdout",
     "output_type": "stream",
     "text": [
      "iteration: 0/10000\n",
      "validation | elbo: -14555.131836, log_px: -14550.95, kl: 4.19:\n",
      "iteration: 100/10000\n",
      "validation | elbo: -14049.509115, log_px: -14010.97, kl: 38.54:\n",
      "iteration: 200/10000\n",
      "validation | elbo: -13733.474121, log_px: -13681.48, kl: 51.99:\n",
      "iteration: 300/10000\n",
      "validation | elbo: -13468.532031, log_px: -13413.07, kl: 55.46:\n",
      "iteration: 400/10000\n",
      "validation | elbo: -13196.886230, log_px: -13140.60, kl: 56.29:\n",
      "iteration: 500/10000\n",
      "validation | elbo: -12888.962054, log_px: -12833.34, kl: 55.62:\n",
      "iteration: 600/10000\n",
      "validation | elbo: -12522.119385, log_px: -12467.86, kl: 54.26:\n",
      "iteration: 700/10000\n",
      "validation | elbo: -12087.398329, log_px: -12033.78, kl: 53.62:\n",
      "iteration: 800/10000\n",
      "validation | elbo: -11577.295410, log_px: -11524.09, kl: 53.21:\n",
      "iteration: 900/10000\n",
      "validation | elbo: -11000.238636, log_px: -10946.34, kl: 53.90:\n",
      "iteration: 1000/10000\n",
      "validation | elbo: -10357.081299, log_px: -10301.88, kl: 55.20:\n",
      "iteration: 1100/10000\n",
      "validation | elbo: -9662.256442, log_px: -9605.02, kl: 57.24:\n",
      "iteration: 1200/10000\n",
      "validation | elbo: -8949.856376, log_px: -8890.34, kl: 59.52:\n",
      "iteration: 1300/10000\n",
      "validation | elbo: -8244.117253, log_px: -8181.79, kl: 62.33:\n",
      "iteration: 1400/10000\n",
      "validation | elbo: -7553.828903, log_px: -7488.29, kl: 65.54:\n",
      "iteration: 1500/10000\n",
      "validation | elbo: -6887.795841, log_px: -6819.08, kl: 68.72:\n",
      "iteration: 1600/10000\n",
      "validation | elbo: -6257.468506, log_px: -6185.42, kl: 72.05:\n",
      "iteration: 1700/10000\n",
      "validation | elbo: -5642.169125, log_px: -5566.60, kl: 75.57:\n",
      "iteration: 1800/10000\n",
      "validation | elbo: -5051.687671, log_px: -4972.12, kl: 79.57:\n",
      "iteration: 1900/10000\n",
      "validation | elbo: -4488.289179, log_px: -4404.75, kl: 83.54:\n",
      "iteration: 2000/10000\n",
      "validation | elbo: -3949.934038, log_px: -3862.36, kl: 87.57:\n",
      "iteration: 2100/10000\n",
      "validation | elbo: -3431.075620, log_px: -3339.28, kl: 91.79:\n",
      "iteration: 2200/10000\n",
      "validation | elbo: -2936.870280, log_px: -2840.67, kl: 96.20:\n",
      "iteration: 2300/10000\n",
      "validation | elbo: -2459.123867, log_px: -2358.66, kl: 100.47:\n",
      "iteration: 2400/10000\n",
      "validation | elbo: -2006.337740, log_px: -1901.47, kl: 104.86:\n",
      "iteration: 2500/10000\n",
      "validation | elbo: -1589.262370, log_px: -1479.87, kl: 109.39:\n",
      "iteration: 2600/10000\n",
      "validation | elbo: -1181.889823, log_px: -1067.81, kl: 114.08:\n",
      "iteration: 2700/10000\n",
      "validation | elbo: -772.585432, log_px: -653.91, kl: 118.67:\n",
      "iteration: 2800/10000\n",
      "validation | elbo: -385.406543, log_px: -262.12, kl: 123.29:\n",
      "iteration: 2900/10000\n",
      "validation | elbo: -5.376008, log_px: 122.39, kl: 127.77:\n",
      "iteration: 3000/10000\n",
      "validation | elbo: 356.167786, log_px: 488.18, kl: 132.02:\n",
      "iteration: 3100/10000\n",
      "validation | elbo: 701.740442, log_px: 838.24, kl: 136.50:\n",
      "iteration: 3200/10000\n",
      "validation | elbo: 1034.528004, log_px: 1175.49, kl: 140.96:\n",
      "iteration: 3300/10000\n",
      "validation | elbo: 1360.708817, log_px: 1506.33, kl: 145.62:\n",
      "iteration: 3400/10000\n",
      "validation | elbo: 1676.293457, log_px: 1826.67, kl: 150.38:\n",
      "iteration: 3500/10000\n",
      "validation | elbo: 1973.651314, log_px: 2128.92, kl: 155.27:\n",
      "iteration: 3600/10000\n",
      "validation | elbo: 2258.055818, log_px: 2418.17, kl: 160.11:\n",
      "iteration: 3700/10000\n",
      "validation | elbo: 2531.437575, log_px: 2696.59, kl: 165.16:\n",
      "iteration: 3800/10000\n",
      "validation | elbo: 2800.346143, log_px: 2970.23, kl: 169.89:\n"
     ]
    },
    {
     "ename": "KeyboardInterrupt",
     "evalue": "",
     "output_type": "error",
     "traceback": [
      "\u001b[1;31m---------------------------------------------------------------------------\u001b[0m",
      "\u001b[1;31mKeyboardInterrupt\u001b[0m                         Traceback (most recent call last)",
      "Input \u001b[1;32mIn [257]\u001b[0m, in \u001b[0;36m<cell line: 5>\u001b[1;34m()\u001b[0m\n\u001b[0;32m      6\u001b[0m x, _ \u001b[38;5;241m=\u001b[39m train_batcher\u001b[38;5;241m.\u001b[39mnext_batch()\n\u001b[0;32m      8\u001b[0m vae\u001b[38;5;241m.\u001b[39mtrain()\n\u001b[1;32m---> 10\u001b[0m loss, diagnostics, outputs \u001b[38;5;241m=\u001b[39m \u001b[43mvi\u001b[49m\u001b[43m(\u001b[49m\u001b[43mvae\u001b[49m\u001b[43m,\u001b[49m\u001b[43m \u001b[49m\u001b[43mx\u001b[49m\u001b[43m)\u001b[49m\n\u001b[0;32m     12\u001b[0m optimizer\u001b[38;5;241m.\u001b[39mzero_grad()\n\u001b[0;32m     13\u001b[0m loss\u001b[38;5;241m.\u001b[39mbackward()\n",
      "File \u001b[1;32mC:\\ProgramData\\Anaconda3\\lib\\site-packages\\torch\\nn\\modules\\module.py:1130\u001b[0m, in \u001b[0;36mModule._call_impl\u001b[1;34m(self, *input, **kwargs)\u001b[0m\n\u001b[0;32m   1126\u001b[0m \u001b[38;5;66;03m# If we don't have any hooks, we want to skip the rest of the logic in\u001b[39;00m\n\u001b[0;32m   1127\u001b[0m \u001b[38;5;66;03m# this function, and just call forward.\u001b[39;00m\n\u001b[0;32m   1128\u001b[0m \u001b[38;5;28;01mif\u001b[39;00m \u001b[38;5;129;01mnot\u001b[39;00m (\u001b[38;5;28mself\u001b[39m\u001b[38;5;241m.\u001b[39m_backward_hooks \u001b[38;5;129;01mor\u001b[39;00m \u001b[38;5;28mself\u001b[39m\u001b[38;5;241m.\u001b[39m_forward_hooks \u001b[38;5;129;01mor\u001b[39;00m \u001b[38;5;28mself\u001b[39m\u001b[38;5;241m.\u001b[39m_forward_pre_hooks \u001b[38;5;129;01mor\u001b[39;00m _global_backward_hooks\n\u001b[0;32m   1129\u001b[0m         \u001b[38;5;129;01mor\u001b[39;00m _global_forward_hooks \u001b[38;5;129;01mor\u001b[39;00m _global_forward_pre_hooks):\n\u001b[1;32m-> 1130\u001b[0m     \u001b[38;5;28;01mreturn\u001b[39;00m forward_call(\u001b[38;5;241m*\u001b[39m\u001b[38;5;28minput\u001b[39m, \u001b[38;5;241m*\u001b[39m\u001b[38;5;241m*\u001b[39mkwargs)\n\u001b[0;32m   1131\u001b[0m \u001b[38;5;66;03m# Do not call functions when jit is used\u001b[39;00m\n\u001b[0;32m   1132\u001b[0m full_backward_hooks, non_full_backward_hooks \u001b[38;5;241m=\u001b[39m [], []\n",
      "File \u001b[1;32mC:\\dtu\\semester 9\\Deep Learning\\generative-models-for-phenotypic-profiling\\gmfpp\\models\\VariationalInference.py:18\u001b[0m, in \u001b[0;36mVariationalInference.forward\u001b[1;34m(self, model, x)\u001b[0m\n\u001b[0;32m     17\u001b[0m \u001b[38;5;28;01mdef\u001b[39;00m \u001b[38;5;21mforward\u001b[39m(\u001b[38;5;28mself\u001b[39m, model:nn\u001b[38;5;241m.\u001b[39mModule, x:Tensor) \u001b[38;5;241m-\u001b[39m\u001b[38;5;241m>\u001b[39m Tuple[Tensor, Dict]:\n\u001b[1;32m---> 18\u001b[0m     outputs \u001b[38;5;241m=\u001b[39m \u001b[43mmodel\u001b[49m\u001b[43m(\u001b[49m\u001b[43mx\u001b[49m\u001b[43m)\u001b[49m\n\u001b[0;32m     20\u001b[0m     px, pz, qz, z \u001b[38;5;241m=\u001b[39m [outputs[k] \u001b[38;5;28;01mfor\u001b[39;00m k \u001b[38;5;129;01min\u001b[39;00m [\u001b[38;5;124m\"\u001b[39m\u001b[38;5;124mpx\u001b[39m\u001b[38;5;124m\"\u001b[39m, \u001b[38;5;124m\"\u001b[39m\u001b[38;5;124mpz\u001b[39m\u001b[38;5;124m\"\u001b[39m, \u001b[38;5;124m\"\u001b[39m\u001b[38;5;124mqz\u001b[39m\u001b[38;5;124m\"\u001b[39m, \u001b[38;5;124m\"\u001b[39m\u001b[38;5;124mz\u001b[39m\u001b[38;5;124m\"\u001b[39m]]\n\u001b[0;32m     22\u001b[0m     log_px \u001b[38;5;241m=\u001b[39m reduce(px\u001b[38;5;241m.\u001b[39mlog_prob(x))\n",
      "File \u001b[1;32mC:\\ProgramData\\Anaconda3\\lib\\site-packages\\torch\\nn\\modules\\module.py:1130\u001b[0m, in \u001b[0;36mModule._call_impl\u001b[1;34m(self, *input, **kwargs)\u001b[0m\n\u001b[0;32m   1126\u001b[0m \u001b[38;5;66;03m# If we don't have any hooks, we want to skip the rest of the logic in\u001b[39;00m\n\u001b[0;32m   1127\u001b[0m \u001b[38;5;66;03m# this function, and just call forward.\u001b[39;00m\n\u001b[0;32m   1128\u001b[0m \u001b[38;5;28;01mif\u001b[39;00m \u001b[38;5;129;01mnot\u001b[39;00m (\u001b[38;5;28mself\u001b[39m\u001b[38;5;241m.\u001b[39m_backward_hooks \u001b[38;5;129;01mor\u001b[39;00m \u001b[38;5;28mself\u001b[39m\u001b[38;5;241m.\u001b[39m_forward_hooks \u001b[38;5;129;01mor\u001b[39;00m \u001b[38;5;28mself\u001b[39m\u001b[38;5;241m.\u001b[39m_forward_pre_hooks \u001b[38;5;129;01mor\u001b[39;00m _global_backward_hooks\n\u001b[0;32m   1129\u001b[0m         \u001b[38;5;129;01mor\u001b[39;00m _global_forward_hooks \u001b[38;5;129;01mor\u001b[39;00m _global_forward_pre_hooks):\n\u001b[1;32m-> 1130\u001b[0m     \u001b[38;5;28;01mreturn\u001b[39;00m forward_call(\u001b[38;5;241m*\u001b[39m\u001b[38;5;28minput\u001b[39m, \u001b[38;5;241m*\u001b[39m\u001b[38;5;241m*\u001b[39mkwargs)\n\u001b[0;32m   1131\u001b[0m \u001b[38;5;66;03m# Do not call functions when jit is used\u001b[39;00m\n\u001b[0;32m   1132\u001b[0m full_backward_hooks, non_full_backward_hooks \u001b[38;5;241m=\u001b[39m [], []\n",
      "File \u001b[1;32mC:\\dtu\\semester 9\\Deep Learning\\generative-models-for-phenotypic-profiling\\gmfpp\\models\\CytoVariationalAutoencoder.py:136\u001b[0m, in \u001b[0;36mCytoVariationalAutoencoder.forward\u001b[1;34m(self, x)\u001b[0m\n\u001b[0;32m    133\u001b[0m z \u001b[38;5;241m=\u001b[39m qz\u001b[38;5;241m.\u001b[39mrsample()\n\u001b[0;32m    135\u001b[0m \u001b[38;5;66;03m# define the observation model p(x|z) = B(x | g(z))\u001b[39;00m\n\u001b[1;32m--> 136\u001b[0m px \u001b[38;5;241m=\u001b[39m \u001b[38;5;28;43mself\u001b[39;49m\u001b[38;5;241;43m.\u001b[39;49m\u001b[43mobservation_model\u001b[49m\u001b[43m(\u001b[49m\u001b[43mz\u001b[49m\u001b[43m)\u001b[49m\n\u001b[0;32m    138\u001b[0m \u001b[38;5;28;01mreturn\u001b[39;00m {\u001b[38;5;124m'\u001b[39m\u001b[38;5;124mpx\u001b[39m\u001b[38;5;124m'\u001b[39m: px, \u001b[38;5;124m'\u001b[39m\u001b[38;5;124mpz\u001b[39m\u001b[38;5;124m'\u001b[39m: pz, \u001b[38;5;124m'\u001b[39m\u001b[38;5;124mqz\u001b[39m\u001b[38;5;124m'\u001b[39m: qz, \u001b[38;5;124m'\u001b[39m\u001b[38;5;124mz\u001b[39m\u001b[38;5;124m'\u001b[39m: z}\n",
      "File \u001b[1;32mC:\\dtu\\semester 9\\Deep Learning\\generative-models-for-phenotypic-profiling\\gmfpp\\models\\CytoVariationalAutoencoder.py:114\u001b[0m, in \u001b[0;36mCytoVariationalAutoencoder.observation_model\u001b[1;34m(self, z)\u001b[0m\n\u001b[0;32m    112\u001b[0m \u001b[38;5;28;01mdef\u001b[39;00m \u001b[38;5;21mobservation_model\u001b[39m(\u001b[38;5;28mself\u001b[39m, z:Tensor) \u001b[38;5;241m-\u001b[39m\u001b[38;5;241m>\u001b[39m Distribution:\n\u001b[0;32m    113\u001b[0m     \u001b[38;5;124;03m\"\"\"return the distribution `p(x|z)`\"\"\"\u001b[39;00m\n\u001b[1;32m--> 114\u001b[0m     h_z \u001b[38;5;241m=\u001b[39m \u001b[38;5;28;43mself\u001b[39;49m\u001b[38;5;241;43m.\u001b[39;49m\u001b[43mdecoder\u001b[49m\u001b[43m(\u001b[49m\u001b[43mz\u001b[49m\u001b[43m)\u001b[49m\n\u001b[0;32m    116\u001b[0m     mu, log_sigma \u001b[38;5;241m=\u001b[39m h_z\u001b[38;5;241m.\u001b[39mchunk(\u001b[38;5;241m2\u001b[39m, dim\u001b[38;5;241m=\u001b[39m\u001b[38;5;241m1\u001b[39m)\n\u001b[0;32m    117\u001b[0m     mu \u001b[38;5;241m=\u001b[39m mu\u001b[38;5;241m.\u001b[39mview(\u001b[38;5;241m-\u001b[39m\u001b[38;5;241m1\u001b[39m, \u001b[38;5;241m*\u001b[39m\u001b[38;5;28mself\u001b[39m\u001b[38;5;241m.\u001b[39minput_shape) \u001b[38;5;66;03m# reshape the output\u001b[39;00m\n",
      "File \u001b[1;32mC:\\ProgramData\\Anaconda3\\lib\\site-packages\\torch\\nn\\modules\\module.py:1130\u001b[0m, in \u001b[0;36mModule._call_impl\u001b[1;34m(self, *input, **kwargs)\u001b[0m\n\u001b[0;32m   1126\u001b[0m \u001b[38;5;66;03m# If we don't have any hooks, we want to skip the rest of the logic in\u001b[39;00m\n\u001b[0;32m   1127\u001b[0m \u001b[38;5;66;03m# this function, and just call forward.\u001b[39;00m\n\u001b[0;32m   1128\u001b[0m \u001b[38;5;28;01mif\u001b[39;00m \u001b[38;5;129;01mnot\u001b[39;00m (\u001b[38;5;28mself\u001b[39m\u001b[38;5;241m.\u001b[39m_backward_hooks \u001b[38;5;129;01mor\u001b[39;00m \u001b[38;5;28mself\u001b[39m\u001b[38;5;241m.\u001b[39m_forward_hooks \u001b[38;5;129;01mor\u001b[39;00m \u001b[38;5;28mself\u001b[39m\u001b[38;5;241m.\u001b[39m_forward_pre_hooks \u001b[38;5;129;01mor\u001b[39;00m _global_backward_hooks\n\u001b[0;32m   1129\u001b[0m         \u001b[38;5;129;01mor\u001b[39;00m _global_forward_hooks \u001b[38;5;129;01mor\u001b[39;00m _global_forward_pre_hooks):\n\u001b[1;32m-> 1130\u001b[0m     \u001b[38;5;28;01mreturn\u001b[39;00m forward_call(\u001b[38;5;241m*\u001b[39m\u001b[38;5;28minput\u001b[39m, \u001b[38;5;241m*\u001b[39m\u001b[38;5;241m*\u001b[39mkwargs)\n\u001b[0;32m   1131\u001b[0m \u001b[38;5;66;03m# Do not call functions when jit is used\u001b[39;00m\n\u001b[0;32m   1132\u001b[0m full_backward_hooks, non_full_backward_hooks \u001b[38;5;241m=\u001b[39m [], []\n",
      "File \u001b[1;32mC:\\ProgramData\\Anaconda3\\lib\\site-packages\\torch\\nn\\modules\\container.py:139\u001b[0m, in \u001b[0;36mSequential.forward\u001b[1;34m(self, input)\u001b[0m\n\u001b[0;32m    137\u001b[0m \u001b[38;5;28;01mdef\u001b[39;00m \u001b[38;5;21mforward\u001b[39m(\u001b[38;5;28mself\u001b[39m, \u001b[38;5;28minput\u001b[39m):\n\u001b[0;32m    138\u001b[0m     \u001b[38;5;28;01mfor\u001b[39;00m module \u001b[38;5;129;01min\u001b[39;00m \u001b[38;5;28mself\u001b[39m:\n\u001b[1;32m--> 139\u001b[0m         \u001b[38;5;28minput\u001b[39m \u001b[38;5;241m=\u001b[39m \u001b[43mmodule\u001b[49m\u001b[43m(\u001b[49m\u001b[38;5;28;43minput\u001b[39;49m\u001b[43m)\u001b[49m\n\u001b[0;32m    140\u001b[0m     \u001b[38;5;28;01mreturn\u001b[39;00m \u001b[38;5;28minput\u001b[39m\n",
      "File \u001b[1;32mC:\\ProgramData\\Anaconda3\\lib\\site-packages\\torch\\nn\\modules\\module.py:1130\u001b[0m, in \u001b[0;36mModule._call_impl\u001b[1;34m(self, *input, **kwargs)\u001b[0m\n\u001b[0;32m   1126\u001b[0m \u001b[38;5;66;03m# If we don't have any hooks, we want to skip the rest of the logic in\u001b[39;00m\n\u001b[0;32m   1127\u001b[0m \u001b[38;5;66;03m# this function, and just call forward.\u001b[39;00m\n\u001b[0;32m   1128\u001b[0m \u001b[38;5;28;01mif\u001b[39;00m \u001b[38;5;129;01mnot\u001b[39;00m (\u001b[38;5;28mself\u001b[39m\u001b[38;5;241m.\u001b[39m_backward_hooks \u001b[38;5;129;01mor\u001b[39;00m \u001b[38;5;28mself\u001b[39m\u001b[38;5;241m.\u001b[39m_forward_hooks \u001b[38;5;129;01mor\u001b[39;00m \u001b[38;5;28mself\u001b[39m\u001b[38;5;241m.\u001b[39m_forward_pre_hooks \u001b[38;5;129;01mor\u001b[39;00m _global_backward_hooks\n\u001b[0;32m   1129\u001b[0m         \u001b[38;5;129;01mor\u001b[39;00m _global_forward_hooks \u001b[38;5;129;01mor\u001b[39;00m _global_forward_pre_hooks):\n\u001b[1;32m-> 1130\u001b[0m     \u001b[38;5;28;01mreturn\u001b[39;00m forward_call(\u001b[38;5;241m*\u001b[39m\u001b[38;5;28minput\u001b[39m, \u001b[38;5;241m*\u001b[39m\u001b[38;5;241m*\u001b[39mkwargs)\n\u001b[0;32m   1131\u001b[0m \u001b[38;5;66;03m# Do not call functions when jit is used\u001b[39;00m\n\u001b[0;32m   1132\u001b[0m full_backward_hooks, non_full_backward_hooks \u001b[38;5;241m=\u001b[39m [], []\n",
      "File \u001b[1;32mC:\\ProgramData\\Anaconda3\\lib\\site-packages\\torch\\nn\\modules\\conv.py:457\u001b[0m, in \u001b[0;36mConv2d.forward\u001b[1;34m(self, input)\u001b[0m\n\u001b[0;32m    456\u001b[0m \u001b[38;5;28;01mdef\u001b[39;00m \u001b[38;5;21mforward\u001b[39m(\u001b[38;5;28mself\u001b[39m, \u001b[38;5;28minput\u001b[39m: Tensor) \u001b[38;5;241m-\u001b[39m\u001b[38;5;241m>\u001b[39m Tensor:\n\u001b[1;32m--> 457\u001b[0m     \u001b[38;5;28;01mreturn\u001b[39;00m \u001b[38;5;28;43mself\u001b[39;49m\u001b[38;5;241;43m.\u001b[39;49m\u001b[43m_conv_forward\u001b[49m\u001b[43m(\u001b[49m\u001b[38;5;28;43minput\u001b[39;49m\u001b[43m,\u001b[49m\u001b[43m \u001b[49m\u001b[38;5;28;43mself\u001b[39;49m\u001b[38;5;241;43m.\u001b[39;49m\u001b[43mweight\u001b[49m\u001b[43m,\u001b[49m\u001b[43m \u001b[49m\u001b[38;5;28;43mself\u001b[39;49m\u001b[38;5;241;43m.\u001b[39;49m\u001b[43mbias\u001b[49m\u001b[43m)\u001b[49m\n",
      "File \u001b[1;32mC:\\ProgramData\\Anaconda3\\lib\\site-packages\\torch\\nn\\modules\\conv.py:453\u001b[0m, in \u001b[0;36mConv2d._conv_forward\u001b[1;34m(self, input, weight, bias)\u001b[0m\n\u001b[0;32m    449\u001b[0m \u001b[38;5;28;01mif\u001b[39;00m \u001b[38;5;28mself\u001b[39m\u001b[38;5;241m.\u001b[39mpadding_mode \u001b[38;5;241m!=\u001b[39m \u001b[38;5;124m'\u001b[39m\u001b[38;5;124mzeros\u001b[39m\u001b[38;5;124m'\u001b[39m:\n\u001b[0;32m    450\u001b[0m     \u001b[38;5;28;01mreturn\u001b[39;00m F\u001b[38;5;241m.\u001b[39mconv2d(F\u001b[38;5;241m.\u001b[39mpad(\u001b[38;5;28minput\u001b[39m, \u001b[38;5;28mself\u001b[39m\u001b[38;5;241m.\u001b[39m_reversed_padding_repeated_twice, mode\u001b[38;5;241m=\u001b[39m\u001b[38;5;28mself\u001b[39m\u001b[38;5;241m.\u001b[39mpadding_mode),\n\u001b[0;32m    451\u001b[0m                     weight, bias, \u001b[38;5;28mself\u001b[39m\u001b[38;5;241m.\u001b[39mstride,\n\u001b[0;32m    452\u001b[0m                     _pair(\u001b[38;5;241m0\u001b[39m), \u001b[38;5;28mself\u001b[39m\u001b[38;5;241m.\u001b[39mdilation, \u001b[38;5;28mself\u001b[39m\u001b[38;5;241m.\u001b[39mgroups)\n\u001b[1;32m--> 453\u001b[0m \u001b[38;5;28;01mreturn\u001b[39;00m \u001b[43mF\u001b[49m\u001b[38;5;241;43m.\u001b[39;49m\u001b[43mconv2d\u001b[49m\u001b[43m(\u001b[49m\u001b[38;5;28;43minput\u001b[39;49m\u001b[43m,\u001b[49m\u001b[43m \u001b[49m\u001b[43mweight\u001b[49m\u001b[43m,\u001b[49m\u001b[43m \u001b[49m\u001b[43mbias\u001b[49m\u001b[43m,\u001b[49m\u001b[43m \u001b[49m\u001b[38;5;28;43mself\u001b[39;49m\u001b[38;5;241;43m.\u001b[39;49m\u001b[43mstride\u001b[49m\u001b[43m,\u001b[49m\n\u001b[0;32m    454\u001b[0m \u001b[43m                \u001b[49m\u001b[38;5;28;43mself\u001b[39;49m\u001b[38;5;241;43m.\u001b[39;49m\u001b[43mpadding\u001b[49m\u001b[43m,\u001b[49m\u001b[43m \u001b[49m\u001b[38;5;28;43mself\u001b[39;49m\u001b[38;5;241;43m.\u001b[39;49m\u001b[43mdilation\u001b[49m\u001b[43m,\u001b[49m\u001b[43m \u001b[49m\u001b[38;5;28;43mself\u001b[39;49m\u001b[38;5;241;43m.\u001b[39;49m\u001b[43mgroups\u001b[49m\u001b[43m)\u001b[49m\n",
      "\u001b[1;31mKeyboardInterrupt\u001b[0m: "
     ]
    }
   ],
   "source": [
    "iterations = 10_000\n",
    "\n",
    "validate_every = 100\n",
    "\n",
    "for iteration in range(iterations):\n",
    "    x, _ = train_batcher.next_batch()\n",
    "    \n",
    "    vae.train()\n",
    "    \n",
    "    loss, diagnostics, outputs = vi(vae, x)\n",
    "\n",
    "    optimizer.zero_grad()\n",
    "    loss.backward()\n",
    "    nn.utils.clip_grad_norm_(vae.parameters(), 10_000)\n",
    "    optimizer.step()\n",
    "    \n",
    "    if iteration % validate_every == 0:\n",
    "        with torch.no_grad():\n",
    "            vae.eval()\n",
    "\n",
    "            validation_epoch_data = defaultdict(list)\n",
    "\n",
    "            for x, _ in validation_loader:\n",
    "                x = x.to(device)\n",
    "\n",
    "                loss, diagnostics, outputs = vi(vae, x)\n",
    "\n",
    "                for k, v in diagnostics.items():\n",
    "                    validation_epoch_data[k] += [v.mean().item()]\n",
    "\n",
    "            for k, v in diagnostics.items():\n",
    "                validation_data[k] += [np.mean(validation_epoch_data[k])]\n",
    "        \n",
    "        print(f\"iteration: {iteration}/{iterations}\")  \n",
    "        print(\"validation | elbo: {:2f}, log_px: {:.2f}, kl: {:.2f}:\".format(np.mean(validation_data[\"elbo\"]), np.mean(validation_data[\"log_px\"]), np.mean(validation_data[\"kl\"])))    "
   ]
  },
  {
   "cell_type": "code",
   "execution_count": 214,
   "metadata": {},
   "outputs": [],
   "source": [
    "treatment_indices = get_treatment_indices(metadata)\n",
    "\n",
    "batcher = TreatmentBalancedBatchGenerator(treatment_indices, images, metadata)"
   ]
  },
  {
   "cell_type": "code",
   "execution_count": null,
   "metadata": {},
   "outputs": [],
   "source": [
    "print(VAE_settings)"
   ]
  },
  {
   "cell_type": "code",
   "execution_count": null,
   "metadata": {},
   "outputs": [],
   "source": [
    "######### Save VAE parameters #########\n",
    "cprint(\"Save VAE parameters\")\n",
    "create_directory(\"dump/parameters\")\n",
    "datetime = get_datetime()\n",
    "torch.save(vae.state_dict(), \"dump/parameters/vae_parameters_{}.pt\".format(datetime))\n",
    "torch.save(validation_data, \"dump/parameters/validation_data_{}.pt\".format(datetime))\n",
    "torch.save(training_data, \"dump/parameters/training_data_{}.pt\".format(datetime))\n",
    "torch.save(VAE_settings, \"dump/parameters/VAE_settings_{}.pt\".format(datetime))"
   ]
  },
  {
   "cell_type": "code",
   "execution_count": null,
   "metadata": {},
   "outputs": [],
   "source": [
    "plot_VAE_performance(**training_data, file='dump/images/training_data.png', title='VAE - learning')\n",
    "plot_VAE_performance(**validation_data, file='dump/images/validation_data.png', title='VAE - validation')"
   ]
  },
  {
   "cell_type": "markdown",
   "metadata": {
    "cell_id": "38f55a130f7542d5bcbb1afb22d361bf",
    "deepnote_cell_type": "markdown"
   },
   "source": [
    "## Compare reconstruction and original image"
   ]
  },
  {
   "cell_type": "code",
   "execution_count": 340,
   "metadata": {
    "cell_id": "845aa77120a94f608bcbf4ae933e7609",
    "deepnote_cell_type": "code",
    "deepnote_to_be_reexecuted": false,
    "execution_millis": 18,
    "execution_start": 1668533879605,
    "source_hash": "9aa1ea6c"
   },
   "outputs": [],
   "source": [
    "x, _ = train_set[0]"
   ]
  },
  {
   "cell_type": "code",
   "execution_count": 341,
   "metadata": {},
   "outputs": [
    {
     "data": {
      "text/plain": [
       "torch.Size([3, 68, 68])"
      ]
     },
     "execution_count": 341,
     "metadata": {},
     "output_type": "execute_result"
    }
   ],
   "source": [
    "x.shape"
   ]
  },
  {
   "cell_type": "code",
   "execution_count": 342,
   "metadata": {
    "cell_id": "cfad113524184a279df7d73b4906be9f",
    "deepnote_cell_type": "code",
    "deepnote_to_be_reexecuted": false,
    "execution_millis": 717,
    "execution_start": 1668533891834,
    "source_hash": "f71a79cc"
   },
   "outputs": [
    {
     "data": {
      "image/png": "[encoded data removed]",
      "text/plain": [
       "<Figure size 640x480 with 1 Axes>"
      ]
     },
     "metadata": {},
     "output_type": "display_data"
    }
   ],
   "source": [
    "plot_image(img_saturate(x))"
   ]
  },
  {
   "cell_type": "code",
   "execution_count": 336,
   "metadata": {},
   "outputs": [],
   "source": [
    "def sample_from_latent(latent: torch.Tensor, vae: nn.Module):\n",
    "    px = vae.observation_model(latent)\n",
    "    x_reconstruction = px.sample()\n",
    "    return x_reconstruction"
   ]
  },
  {
   "cell_type": "code",
   "execution_count": 306,
   "metadata": {},
   "outputs": [],
   "source": [
    "random_latent = np.random.normal(1, size=256).astype(np.float32)\n",
    "random_latent = torch.from_numpy(0.1 * random_latent[None])\n",
    "x_reconstruction = sample_from_latent(random_latent, vae)\n",
    "x_reconstruction = x_reconstruction[0]"
   ]
  },
  {
   "cell_type": "code",
   "execution_count": 345,
   "metadata": {},
   "outputs": [],
   "source": [
    "vae.eval() # because of batch normalization\n",
    "\n",
    "outputs = vae(x[None,:,:,:])\n",
    "px = outputs[\"px\"]\n",
    "\n",
    "x_reconstruction = px.sample()\n",
    "x_reconstruction = x_reconstruction[0]"
   ]
  },
  {
   "cell_type": "code",
   "execution_count": 346,
   "metadata": {},
   "outputs": [
    {
     "data": {
      "image/png": "[encoded data removed]",
      "text/plain": [
       "<Figure size 1400x600 with 4 Axes>"
      ]
     },
     "metadata": {},
     "output_type": "display_data"
    }
   ],
   "source": [
    "plot_image_channels(img_saturate(x))"
   ]
  },
  {
   "cell_type": "code",
   "execution_count": 347,
   "metadata": {},
   "outputs": [
    {
     "data": {
      "image/png": "[encoded data removed]",
      "text/plain": [
       "<Figure size 1400x600 with 4 Axes>"
      ]
     },
     "metadata": {},
     "output_type": "display_data"
    }
   ],
   "source": [
    "plot_image_channels(img_saturate(x_reconstruction))"
   ]
  },
  {
   "cell_type": "code",
   "execution_count": 348,
   "metadata": {},
   "outputs": [
    {
     "data": {
      "image/png": "[encoded data removed]",
      "text/plain": [
       "<Figure size 640x480 with 1 Axes>"
      ]
     },
     "metadata": {},
     "output_type": "display_data"
    }
   ],
   "source": [
    "plot_image(img_saturate(clip_image_to_zero_one(x_reconstruction)))"
   ]
  },
  {
   "cell_type": "code",
   "execution_count": null,
   "metadata": {},
   "outputs": [],
   "source": [
    "n = 3\n",
    "for i in range(n):\n",
    "    x, y = train_set[i]    \n",
    "    #x = x.to(device)\n",
    "    \n",
    "    plot_image_channels(x, file=\"dump/images/x_{}.png\".format(i))\n",
    "   \n",
    "    outputs = vae(x[None,:,:,:])\n",
    "    px = outputs[\"px\"]\n",
    "    \n",
    "    x_reconstruction = px.sample()\n",
    "    x_reconstruction = x_reconstruction[0]\n",
    "    plot_image_channels(img_saturate(x_reconstruction))\n"
   ]
  },
  {
   "cell_type": "code",
   "execution_count": null,
   "metadata": {},
   "outputs": [],
   "source": []
  },
  {
   "cell_type": "markdown",
   "metadata": {},
   "source": [
    "## Downstream Classification"
   ]
  },
  {
   "cell_type": "code",
   "execution_count": null,
   "metadata": {},
   "outputs": [],
   "source": [
    "def get_plate_and_well_indices(metadata: pd.DataFrame) -> Dict[str, list]:\n",
    "    plates_and_wells = np.array(metadata[['Image_Metadata_Plate_DAPI','Image_Metadata_Well_DAPI']])\n",
    "    result = defaultdict(list)\n",
    "\n",
    "    for i in range(plates_and_wells.shape[0]):\n",
    "        plate, well = plates_and_wells[i]\n",
    "        result[(plate, well)] += [i]\n",
    "        \n",
    "    return result"
   ]
  },
  {
   "cell_type": "code",
   "execution_count": null,
   "metadata": {},
   "outputs": [],
   "source": [
    "class NeuralNetwork(nn.Module):\n",
    "    \n",
    "    def __init__(self, n_classes: int = 13):\n",
    "        super(NeuralNetwork, self).__init__()\n",
    "        \n",
    "        self.net = nn.Sequential(\n",
    "            nn.Linear(256, 128),\n",
    "            nn.ReLU(),\n",
    "            nn.Linear(128, 64),\n",
    "            nn.ReLU(),\n",
    "            nn.Linear(64, n_classes))\n",
    "\n",
    "    def forward(self, x):\n",
    "        logits = self.net(x)\n",
    "        return logits\n",
    "\n",
    "    \n",
    "N_classes = len(mapping)\n",
    "classifier = NeuralNetwork(N_classes).to(device)\n",
    "print(classifier)"
   ]
  },
  {
   "cell_type": "code",
   "execution_count": null,
   "metadata": {},
   "outputs": [],
   "source": [
    "# VAE\n",
    "image_shape = np.array([3, 68, 68])\n",
    "latent_features = 256\n",
    "vae = CytoVariationalAutoencoder(image_shape, latent_features).to(device) # @TODO: load trained parameters"
   ]
  },
  {
   "cell_type": "code",
   "execution_count": null,
   "metadata": {},
   "outputs": [],
   "source": [
    "def extract_well_metadata(metadata: pd.DataFrame, plate_and_well_indices: Dict[Tuple[str, str], list]) -> pd.DataFrame:\n",
    "    data = defaultdict(list)\n",
    "\n",
    "    for plate_and_well in plate_and_well_indices:\n",
    "        indices = plate_and_well_indices[plate_and_well]\n",
    "        index = indices[0] # just use the first sample, since they all have undergone the same treatment\n",
    "\n",
    "        row = metadata.loc[index]\n",
    "        \n",
    "        plate, well = plate_and_well\n",
    "        \n",
    "        data[\"Image_Metadata_Plate_DAPI\"] += [plate]\n",
    "        data[\"Image_Metadata_Well_DAPI\"] += [well]\n",
    "        data[\"Image_Metadata_Compound\"] += [row[\"Image_Metadata_Compound\"]]\n",
    "        data[\"Image_Metadata_Concentration\"] += [row[\"Image_Metadata_Concentration\"]]\n",
    "        data[\"moa\"] += [row[\"moa\"]]\n",
    "\n",
    "    well_metadata = pd.DataFrame(data)\n",
    "        \n",
    "    return well_metadata"
   ]
  },
  {
   "cell_type": "code",
   "execution_count": null,
   "metadata": {},
   "outputs": [],
   "source": [
    "def get_well_profiles(vae: nn.Module, metadata: pd.DataFrame, images: torch.Tensor) -> torch.Tensor:\n",
    "    plate_and_well_indices = get_plate_and_well_indices(metadata)\n",
    "    well_metadata = extract_well_metadata(metadata, plate_and_well_indices)\n",
    "    \n",
    "    well_profiles = torch.empty((len(plate_and_well_indices), vae.latent_features))\n",
    "    \n",
    "    batch_size = 64 # we need to batch them to handle memory issues...\n",
    "    \n",
    "    with torch.no_grad():\n",
    "        vae.eval()\n",
    "        \n",
    "        for i, plate_and_well in enumerate(plate_and_well_indices):\n",
    "            indices = plate_and_well_indices[plate_and_well]\n",
    "            x = images[indices]\n",
    "            x = x.to(device)\n",
    "\n",
    "            z = torch.zeros(vae.latent_features)\n",
    "\n",
    "            batch_offset = np.arange(start=0, stop=len(x), step=batch_size)\n",
    "            for j in range(batch_offset.shape[0] - 1):\n",
    "                start = batch_offset[j]\n",
    "                end = batch_offset[j+1]\n",
    "\n",
    "                outputs = vae(x[start:end])\n",
    "                z += torch.sum(outputs[\"z\"])\n",
    "\n",
    "            # last batch\n",
    "            outputs = vae(x[batch_offset[-1]:])   \n",
    "            z += torch.sum(outputs[\"z\"])\n",
    "\n",
    "            well_profiles[i] = z.detach().cpu() / len(indices)\n",
    "        \n",
    "    return well_profiles, well_metadata"
   ]
  },
  {
   "cell_type": "code",
   "execution_count": null,
   "metadata": {},
   "outputs": [],
   "source": [
    "%%time\n",
    "well_profiles, well_metadata = get_well_profiles(vae, metadata, images)"
   ]
  },
  {
   "cell_type": "code",
   "execution_count": null,
   "metadata": {},
   "outputs": [],
   "source": [
    "well_metadata.head()"
   ]
  },
  {
   "cell_type": "code",
   "execution_count": null,
   "metadata": {},
   "outputs": [],
   "source": [
    "def count_num_correct(y_pred, y_true):\n",
    "    return torch.sum(y_pred == y_true).item()"
   ]
  },
  {
   "cell_type": "code",
   "execution_count": null,
   "metadata": {},
   "outputs": [],
   "source": [
    "# Classifier\n",
    "N_classes = len(mapping)\n",
    "classifier = NeuralNetwork(N_classes).to(device)\n",
    "\n",
    "# Training\n",
    "loss_fn = nn.CrossEntropyLoss()\n",
    "optimizer = torch.optim.SGD(classifier.parameters(), lr=1e-2)\n",
    "\n",
    "num_epochs = 10\n",
    "batch_size = 32"
   ]
  },
  {
   "cell_type": "code",
   "execution_count": null,
   "metadata": {},
   "outputs": [],
   "source": [
    "def extract_metadata_with_compound(metadata: pd.DataFrame, compound: str) -> pd.DataFrame:\n",
    "    return metadata[metadata[\"Image_Metadata_Compound\"] == compound]"
   ]
  },
  {
   "cell_type": "code",
   "execution_count": null,
   "metadata": {},
   "outputs": [],
   "source": [
    "def remove_metadata_subset(metadata: pd.DataFrame, subset: pd.DataFrame) -> pd.DataFrame:\n",
    "    return metadata[~metadata.index.isin(subset.index)]"
   ]
  },
  {
   "cell_type": "code",
   "execution_count": null,
   "metadata": {},
   "outputs": [],
   "source": [
    "metadata_test = extract_metadata_with_compound(well_metadata, \"taxol\")\n",
    "metadata_train_all = remove_metadata_subset(well_metadata, metadata_test)\n",
    "metadata_train, metadata_validation = split_metadata(metadata_train_all, split_fraction = .49)\n",
    "\n",
    "mapping = get_MOA_to_id()\n",
    "train_set = SingleCellDataset(metadata_train, well_profiles, mapping)\n",
    "validation_set = SingleCellDataset(metadata_validation, well_profiles, mapping)\n",
    "test_set = SingleCellDataset(metadata_test, well_profiles, mapping)"
   ]
  },
  {
   "cell_type": "code",
   "execution_count": null,
   "metadata": {},
   "outputs": [],
   "source": [
    "train_loader = DataLoader(train_set, batch_size=32, shuffle=True, num_workers=0, drop_last=False)\n",
    "validation_loader = DataLoader(validation_set, batch_size=32, shuffle=False, num_workers=0, drop_last=False)"
   ]
  },
  {
   "cell_type": "code",
   "execution_count": null,
   "metadata": {},
   "outputs": [],
   "source": [
    "train_loss = []\n",
    "train_accuracy = []\n",
    "\n",
    "validation_loss = []\n",
    "validation_accuracy = []\n",
    "\n",
    "for epoch in range(num_epochs):\n",
    "    print(f\"epoch: {epoch}/{num_epochs}\")    \n",
    "\n",
    "    train_epoch_loss = []\n",
    "    train_epoch_accuracy = []\n",
    "    \n",
    "    classifier.train()\n",
    "    \n",
    "    train_correct = 0\n",
    "    train_num_predictions = 0\n",
    "    \n",
    "    for x, y in train_loader:\n",
    "        x = x.to(device)\n",
    "        y = y.to(device)\n",
    "        \n",
    "        prediction_prob = classifier(x)\n",
    "        loss = loss_fn(prediction_prob, y)\n",
    "        \n",
    "        # Backpropagation\n",
    "        optimizer.zero_grad()\n",
    "        loss.backward()\n",
    "        optimizer.step()\n",
    "\n",
    "        N = len(x)\n",
    "        train_num_predictions += N\n",
    "        pred = torch.argmax(prediction_prob, dim=1)\n",
    "        train_correct += count_num_correct(pred, y.detach())\n",
    "        \n",
    "        train_epoch_loss.append(loss.detach().item())\n",
    "        \n",
    "    epoch_mean_loss = np.mean(train_epoch_loss)\n",
    "    train_loss.append(epoch_mean_loss)\n",
    "    train_accuracy.append(train_correct / train_num_predictions)\n",
    "    \n",
    "    print(\"training | loss: {:.2f}\".format(epoch_mean_loss))\n",
    "    \n",
    "    \n",
    "    validation_epoch_loss = []\n",
    "    classifier.eval()\n",
    "    \n",
    "    validation_correct = 0\n",
    "    validation_num_predictions = 0\n",
    "    \n",
    "    for x, y in validation_loader:\n",
    "        x = x.to(device)\n",
    "        y = y.to(device)\n",
    "        \n",
    "        prediction_prob = classifier(x)\n",
    "        loss = loss_fn(prediction_prob, y)\n",
    "        \n",
    "        validation_epoch_loss.append(loss.detach().item())\n",
    "        \n",
    "        N = len(x)\n",
    "        validation_num_predictions += N\n",
    "        pred = torch.argmax(prediction_prob, dim=1)\n",
    "        validation_correct += count_num_correct(pred, y)\n",
    "\n",
    "    epoch_mean_loss = np.mean(validation_epoch_loss)\n",
    "    validation_loss.append(epoch_mean_loss)\n",
    "    validation_accuracy.append(validation_correct / validation_num_predictions)\n",
    "   \n",
    "        \n",
    "    print(\"validation | loss: {:.2f}\".format(epoch_mean_loss))"
   ]
  },
  {
   "cell_type": "code",
   "execution_count": null,
   "metadata": {},
   "outputs": [],
   "source": [
    "def plot_classifier_performance(train_loss, train_accuracy, validation_loss, validation_accuracy):\n",
    "    fig, axs = plt.subplots(1, 2, figsize=(14,6), constrained_layout = True)\n",
    "    fig.suptitle(\"Classifier - learning\", fontsize=16)\n",
    "\n",
    "    ax1 = axs[0]\n",
    "    ax1.grid()\n",
    "    ax1.plot(train_loss)\n",
    "    ax1.plot(validation_loss)\n",
    "    ax1.legend([\"train\", \"validation\"])\n",
    "    ax1.set_ylabel(\"loss\")\n",
    "    ax1.set_xlabel(\"epoch\")\n",
    "\n",
    "    ax2 = axs[1]\n",
    "    ax2.grid()\n",
    "    ax2.plot(train_accuracy)\n",
    "    ax2.plot(validation_accuracy)\n",
    "    ax2.legend([\"train\", \"validation\"])\n",
    "    ax2.set_ylabel(\"accuracy\")\n",
    "    ax2.set_xlabel(\"epoch\")"
   ]
  },
  {
   "cell_type": "code",
   "execution_count": null,
   "metadata": {},
   "outputs": [],
   "source": [
    "plot_classifier_performance(train_loss, train_accuracy, validation_loss, validation_accuracy)"
   ]
  },
  {
   "cell_type": "markdown",
   "metadata": {},
   "source": [
    "## @TODO\n",
    "- Look at latent representation\n",
    "    - How does changing one latent variable change the image reconstruction?\n",
    "    - How similiar are images in the latent space (cosine-simularity)"
   ]
  },
  {
   "cell_type": "code",
   "execution_count": null,
   "metadata": {},
   "outputs": [],
   "source": []
  },
  {
   "cell_type": "code",
   "execution_count": null,
   "metadata": {},
   "outputs": [],
   "source": []
  },
  {
   "cell_type": "code",
   "execution_count": null,
   "metadata": {},
   "outputs": [],
   "source": [
    "def print_MOA_distribution(metadata: pd.DataFrame):\n",
    "    moa_types = get_MOA_types()\n",
    "    for moa in moa_types:\n",
    "        count = np.sum(metadata[\"moa\"] == moa)\n",
    "        percentage = count / len(metadata)\n",
    "        print(\"{} - {:.3f}\".format(moa, percentage))"
   ]
  },
  {
   "cell_type": "code",
   "execution_count": null,
   "metadata": {},
   "outputs": [],
   "source": [
    "def extract_indices_for_each_MOA(metadata: pd.DataFrame) -> Dict[str, np.ndarray]:\n",
    "    moa_types = get_MOA_types()\n",
    "    result = {}\n",
    "    \n",
    "    for moa in moa_types:\n",
    "        mask = np.array(metadata[\"moa\"] == moa)\n",
    "        result[moa] = np.array(metadata.index[mask])\n",
    "        \n",
    "    return result"
   ]
  },
  {
   "cell_type": "code",
   "execution_count": null,
   "metadata": {},
   "outputs": [],
   "source": [
    "def flatten_MOA_indices(moa_indices: Dict[str, np.ndarray]):\n",
    "    return np.concatenate([moa_indices[moa] for moa in moa_indices])"
   ]
  },
  {
   "cell_type": "code",
   "execution_count": null,
   "metadata": {},
   "outputs": [],
   "source": [
    "def extract_metadata_from_indices(metadata: pd.DataFrame, indices: np.ndarray) -> pd.DataFrame:\n",
    "    return metadata.loc[indices]"
   ]
  },
  {
   "cell_type": "code",
   "execution_count": null,
   "metadata": {},
   "outputs": [],
   "source": [
    "def shuffle_MOA_indices_inplace(moa_indices: Dict[str, np.ndarray]):\n",
    "    for moa in moa_indices:\n",
    "        np.random.shuffle(moa_indices[moa])"
   ]
  },
  {
   "cell_type": "code",
   "execution_count": null,
   "metadata": {},
   "outputs": [],
   "source": [
    "def count_MOA_samples(metadata: pd.DataFrame):\n",
    "    moa_types = get_MOA_types()\n",
    "    indices = extract_indices_for_each_MOA(metadata)\n",
    "    result = {}\n",
    "    \n",
    "    for moa in indices:\n",
    "        result[moa] = indices[moa].shape[0]\n",
    "        \n",
    "    return result"
   ]
  },
  {
   "cell_type": "code",
   "execution_count": null,
   "metadata": {},
   "outputs": [],
   "source": [
    "def get_MOA_types() -> List[str]:\n",
    "    return list(get_MOA_to_id())"
   ]
  },
  {
   "cell_type": "code",
   "execution_count": null,
   "metadata": {},
   "outputs": [],
   "source": [
    "class MoaBalancedBatchGenerator:\n",
    "    \n",
    "    def __init__(self, moa_indices: Dict[str, np.ndarray], images: torch.Tensor, metadata: pd.DataFrame, num_moa_type_per_batch: int = 1):\n",
    "        self.moa_indices = moa_indices\n",
    "        self.batch_size = num_moa_type_per_batch * len(moa_indices)\n",
    "        self.num_moa_type_per_batch = num_moa_type_per_batch\n",
    "        self.images = images\n",
    "        self.metadata = metadata\n",
    "    \n",
    "    def next_indices(self) -> np.ndarray:\n",
    "        result = np.empty(self.batch_size, dtype=np.int64)\n",
    "        \n",
    "        for i, moa in enumerate(moa_indices):\n",
    "            pick = np.random.choice(moa_indices[moa], self.num_moa_type_per_batch, replace=False)\n",
    "            \n",
    "            start = i * self.num_moa_type_per_batch\n",
    "            end = start + self.num_moa_type_per_batch\n",
    "            result[start:end] = pick\n",
    "            \n",
    "        return result\n",
    "    \n",
    "    def __iter__(self):\n",
    "        return self\n",
    "\n",
    "    def __next__(self):\n",
    "        indices = self.next_indices()\n",
    "        X, y = extract_batch_from_indices(indices, self.images, self.metadata)\n",
    "        return X, y"
   ]
  },
  {
   "cell_type": "code",
   "execution_count": null,
   "metadata": {},
   "outputs": [],
   "source": [
    "def get_MOA_balanced_metadata_subset(all_metadata: pd.DataFrame, num_samples_in_each_moa: int) -> pd.DataFrame:\n",
    "    moa_indices = extract_indices_for_each_MOA(all_metadata)\n",
    "    \n",
    "    for moa in moa_indices:\n",
    "        assert len(moa_indices[moa]) >= num_samples_in_each_moa, \"MOA {} has only {} samples, but asked for {} samples\".format(moa, len(moa_indices[moa]), num_samples_in_each_moa)\n",
    "        moa_indices[moa] = moa_indices[moa][:num_samples_in_each_moa]\n",
    "    \n",
    "    indices = flatten_MOA_indices(moa_indices)\n",
    "    metadata = extract_metadata_from_indices(all_metadata, indices)\n",
    "    \n",
    "    return metadata"
   ]
  },
  {
   "cell_type": "code",
   "execution_count": null,
   "metadata": {},
   "outputs": [],
   "source": []
  },
  {
   "cell_type": "code",
   "execution_count": null,
   "metadata": {},
   "outputs": [],
   "source": [
    "metadata = get_MOA_balanced_metadata_subset(metadata_all, num_samples_in_each_moa=20)\n",
    "metadata = metadata.reset_index(drop=True)"
   ]
  },
  {
   "cell_type": "code",
   "execution_count": null,
   "metadata": {},
   "outputs": [],
   "source": [
    "print_MOA_distribution(metadata)"
   ]
  },
  {
   "cell_type": "code",
   "execution_count": null,
   "metadata": {},
   "outputs": [],
   "source": [
    "metadata_test = get_MOA_balanced_metadata_subset(metadata, num_samples_in_each_moa=2)\n",
    "metadata_train_all = metadata[~metadata.index.isin(metadata_test.index)]\n",
    "metadata_validation = get_MOA_balanced_metadata_subset(metadata_train_all, num_samples_in_each_moa=2)\n",
    "metadata_training = metadata_train_all[~metadata_train_all.index.isin(metadata_validation.index)]"
   ]
  },
  {
   "cell_type": "code",
   "execution_count": null,
   "metadata": {},
   "outputs": [],
   "source": [
    "#moa_indices = extract_indices_for_each_MOA(metadata_training)\n",
    "#shuffle_MOA_indices_inplace(moa_indices)"
   ]
  },
  {
   "cell_type": "code",
   "execution_count": null,
   "metadata": {},
   "outputs": [],
   "source": []
  },
  {
   "cell_type": "code",
   "execution_count": null,
   "metadata": {},
   "outputs": [],
   "source": [
    "moa_indices = extract_indices_for_each_MOA(metadata_training)\n",
    "batchGenerator = MoaBalancedBatchGenerator(moa_indices, images, metadata, num_moa_type_per_batch=4)"
   ]
  },
  {
   "cell_type": "code",
   "execution_count": null,
   "metadata": {},
   "outputs": [],
   "source": [
    "%%time\n",
    "max_iterations = 80_000\n",
    "\n",
    "i = 0\n",
    "for i in range(max_iterations):\n",
    "    X, y = next(batchGenerator)\n",
    "    \n",
    "\n",
    "print(\"done\")"
   ]
  }
 ],
 "metadata": {
  "deepnote": {},
  "deepnote_execution_queue": [],
  "deepnote_notebook_id": "d2059ce0701f4cb4bc01ee931dc0f39b",
  "deepnote_persisted_session": {
   "createdAt": "2022-11-14T22:47:34.652Z"
  },
  "kernelspec": {
   "display_name": "Python 3 (ipykernel)",
   "language": "python",
   "name": "python3"
  },
  "language_info": {
   "codemirror_mode": {
    "name": "ipython",
    "version": 3
   },
   "file_extension": ".py",
   "mimetype": "text/x-python",
   "name": "python",
   "nbconvert_exporter": "python",
   "pygments_lexer": "ipython3",
   "version": "3.9.13"
  }
 },
 "nbformat": 4,
 "nbformat_minor": 4
}
