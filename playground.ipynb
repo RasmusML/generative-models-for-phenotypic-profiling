{
 "cells": [
  {
   "cell_type": "markdown",
   "metadata": {
    "cell_id": "589e16cc31d7401ab943b894769ae3c0",
    "deepnote_cell_type": "markdown"
   },
   "source": [
    "# Playground"
   ]
  },
  {
   "cell_type": "code",
   "execution_count": 1,
   "metadata": {
    "cell_id": "95880210fc7842e19a3c6c0fa352f78a",
    "deepnote_cell_type": "code",
    "deepnote_to_be_reexecuted": false,
    "execution_millis": 106,
    "execution_start": 1668534607328,
    "source_hash": "c057d76e"
   },
   "outputs": [],
   "source": [
    "from typing import List, Set, Dict, Tuple, Optional, Any\n",
    "from collections import defaultdict\n",
    "\n",
    "import pandas as pd\n",
    "import seaborn as sns\n",
    "import numpy as np\n",
    "import matplotlib.pyplot as plt\n",
    "\n",
    "import math \n",
    "import torch\n",
    "from torch import nn, Tensor\n",
    "from torch.nn.functional import softplus, relu\n",
    "from torch.distributions import Distribution, Normal\n",
    "from torch.utils.data import DataLoader\n",
    "\n",
    "from gmfpp.utils.data_preparation import *\n",
    "from gmfpp.utils.data_transformers import *\n",
    "from gmfpp.utils.plotting import *\n",
    "\n",
    "from gmfpp.models.ReparameterizedDiagonalGaussian import *\n",
    "from gmfpp.models.CytoVariationalAutoencoder import *\n",
    "from gmfpp.models.VariationalAutoencoder import *\n",
    "from gmfpp.models.ConvVariationalAutoencoder import *\n",
    "from gmfpp.models.VariationalInference import *\n",
    "\n",
    "%matplotlib inline"
   ]
  },
  {
   "cell_type": "code",
   "execution_count": 2,
   "metadata": {},
   "outputs": [],
   "source": [
    "torch.manual_seed(0)\n",
    "torch.cuda.manual_seed(0)"
   ]
  },
  {
   "cell_type": "markdown",
   "metadata": {
    "cell_id": "5ccf34ec649449f9897718de613e77a3",
    "deepnote_cell_type": "markdown"
   },
   "source": [
    "## Load data"
   ]
  },
  {
   "cell_type": "code",
   "execution_count": 3,
   "metadata": {
    "cell_id": "7f138156e99b419da71decf6b0ddd537",
    "deepnote_cell_type": "code",
    "deepnote_to_be_reexecuted": false,
    "execution_millis": 70,
    "execution_start": 1668533823880,
    "source_hash": "f50043b7"
   },
   "outputs": [],
   "source": [
    "metadata = read_metadata(\"./data/tiny/metadata.csv\")"
   ]
  },
  {
   "cell_type": "code",
   "execution_count": 4,
   "metadata": {
    "cell_id": "0a35af5f97ba47e2a7a51cb5919fc704",
    "deepnote_cell_type": "code",
    "deepnote_to_be_reexecuted": false,
    "execution_millis": 44,
    "execution_start": 1668533825380,
    "source_hash": "268f0f7"
   },
   "outputs": [],
   "source": [
    "relative_path = get_relative_image_paths(metadata)\n",
    "image_paths = [\"./data/tiny/\" + path for path in relative_path]\n",
    "images = load_images(image_paths)"
   ]
  },
  {
   "cell_type": "code",
   "execution_count": 5,
   "metadata": {
    "cell_id": "4009d3104a144cc0839232fdad83b6fb",
    "deepnote_cell_type": "code",
    "deepnote_to_be_reexecuted": false,
    "execution_millis": 49,
    "execution_start": 1668533825828,
    "source_hash": "7b6291e6"
   },
   "outputs": [
    {
     "data": {
      "text/plain": [
       "259"
      ]
     },
     "execution_count": 5,
     "metadata": {},
     "output_type": "execute_result"
    }
   ],
   "source": [
    "len(images)"
   ]
  },
  {
   "cell_type": "markdown",
   "metadata": {
    "cell_id": "768e10612c1d4ecd85db88848139700a",
    "deepnote_cell_type": "markdown"
   },
   "source": [
    "## VAE"
   ]
  },
  {
   "cell_type": "code",
   "execution_count": 6,
   "metadata": {
    "cell_id": "bf3a11a412fb4795867ea9e0e422e769",
    "deepnote_cell_type": "code",
    "deepnote_to_be_reexecuted": false,
    "execution_millis": 433,
    "execution_start": 1668533841554,
    "source_hash": "24f4a94d"
   },
   "outputs": [
    {
     "name": "stdout",
     "output_type": "stream",
     "text": [
      "torch.Size([259, 3, 68, 68])\n"
     ]
    }
   ],
   "source": [
    "train_set = prepare_raw_images(images)\n",
    "normalize_channels_inplace(train_set)\n",
    "print(train_set.shape)"
   ]
  },
  {
   "cell_type": "code",
   "execution_count": 7,
   "metadata": {
    "cell_id": "eb6660d2647241428b0c8d5aadb64108",
    "deepnote_cell_type": "code",
    "deepnote_to_be_reexecuted": false,
    "execution_millis": 102,
    "execution_start": 1668533844579,
    "source_hash": "9aed2e81"
   },
   "outputs": [
    {
     "name": "stdout",
     "output_type": "stream",
     "text": [
      "channel 0 interval: [0.02; 1.00]\n",
      "channel 1 interval: [0.04; 1.00]\n",
      "channel 2 interval: [0.05; 1.00]\n"
     ]
    }
   ],
   "source": [
    "channel_first = view_channel_dim_first(train_set)\n",
    "for i in range(channel_first.shape[0]):\n",
    "    channel = channel_first[i]\n",
    "    print(\"channel {} interval: [{:.2f}; {:.2f}]\".format(i, torch.min(channel), torch.max(channel)))"
   ]
  },
  {
   "cell_type": "code",
   "execution_count": 8,
   "metadata": {
    "cell_id": "44175fa2e3b44a76bc94b5082c485977",
    "deepnote_cell_type": "code",
    "deepnote_to_be_reexecuted": false,
    "execution_millis": 127,
    "execution_start": 1668533845832,
    "source_hash": "66b0d064"
   },
   "outputs": [],
   "source": [
    "# VAE\n",
    "image_shape = np.array([3, 68, 68])\n",
    "latent_features = 256\n",
    "vae = CytoVariationalAutoencoder(image_shape, latent_features)\n",
    "#vae = VariationalAutoencoder(image_shape, latent_features)\n",
    "\n",
    "beta = 1\n",
    "vi = VariationalInference(beta=beta)\n",
    "\n",
    "# The Adam optimizer works really well with VAEs.\n",
    "optimizer = torch.optim.Adam(vae.parameters(), lr=1e-2, weight_decay=10e-4)\n",
    "\n",
    "# define dictionary to store the training curves\n",
    "training_data = defaultdict(list)\n",
    "validation_data = defaultdict(list)"
   ]
  },
  {
   "cell_type": "code",
   "execution_count": null,
   "metadata": {
    "cell_id": "bd5c4dfc160b4febbdaf2209398fde60",
    "deepnote_cell_type": "code",
    "deepnote_to_be_reexecuted": false,
    "execution_millis": 15978,
    "execution_start": 1668533848529,
    "source_hash": "8bd36839"
   },
   "outputs": [
    {
     "name": "stdout",
     "output_type": "stream",
     "text": [
      ">> Using device: cpu\n",
      "epoch: 0/1000\n",
      "training | elbo: -13455.945923, log_px: -12861.16, kl: 594.79:\n",
      "validation | elbo: -12656540.000000, log_px: -12588970.00, kl: 67570.55:\n",
      "epoch: 1/1000\n",
      "training | elbo: -12837.380310, log_px: -12564.46, kl: 272.92:\n",
      "validation | elbo: -6334754.938477, log_px: -6300692.52, kl: 34062.69:\n",
      "epoch: 2/1000\n",
      "training | elbo: -12549.311401, log_px: -12351.60, kl: 197.71:\n",
      "validation | elbo: -4227277.443034, log_px: -4204527.34, kl: 22750.29:\n",
      "epoch: 3/1000\n",
      "training | elbo: -12121.643494, log_px: -11971.73, kl: 149.91:\n",
      "validation | elbo: -3173421.459229, log_px: -3156323.25, kl: 17098.34:\n",
      "epoch: 4/1000\n",
      "training | elbo: -11437.510620, log_px: -11313.97, kl: 123.54:\n",
      "validation | elbo: -2540923.657617, log_px: -2527223.03, kl: 13700.74:\n",
      "epoch: 5/1000\n",
      "training | elbo: -10397.099487, log_px: -10290.65, kl: 106.45:\n",
      "validation | elbo: -2119069.248372, log_px: -2107640.90, kl: 11428.44:\n",
      "epoch: 6/1000\n",
      "training | elbo: -8885.671509, log_px: -8792.54, kl: 93.13:\n",
      "validation | elbo: -1817522.989397, log_px: -1807721.22, kl: 9801.85:\n",
      "epoch: 7/1000\n",
      "training | elbo: -6860.343262, log_px: -6780.15, kl: 80.20:\n",
      "validation | elbo: -1591069.969482, log_px: -1582485.31, kl: 8584.73:\n",
      "epoch: 8/1000\n",
      "training | elbo: -4690.892731, log_px: -4621.27, kl: 69.62:\n",
      "validation | elbo: -1414674.390734, log_px: -1407039.42, kl: 7635.03:\n",
      "epoch: 9/1000\n",
      "training | elbo: -2471.034058, log_px: -2408.54, kl: 62.49:\n",
      "validation | elbo: -1273283.807672, log_px: -1266407.51, kl: 6876.36:\n",
      "epoch: 10/1000\n",
      "training | elbo: -373.289576, log_px: -316.21, kl: 57.08:\n",
      "validation | elbo: -1157567.763006, log_px: -1151311.53, kl: 6256.28:\n",
      "epoch: 11/1000\n",
      "training | elbo: 1650.491116, log_px: 1705.56, kl: 55.07:\n",
      "validation | elbo: -1061021.239980, log_px: -1055282.41, kl: 5738.87:\n",
      "epoch: 12/1000\n",
      "training | elbo: 3211.626743, log_px: 3264.17, kl: 52.54:\n",
      "validation | elbo: -979154.609591, log_px: -973850.94, kl: 5303.71:\n",
      "epoch: 13/1000\n",
      "training | elbo: 3999.212891, log_px: 4050.81, kl: 51.60:\n",
      "validation | elbo: -908892.027544, log_px: -903963.48, kl: 4928.59:\n",
      "epoch: 14/1000\n",
      "training | elbo: 4012.091507, log_px: 4062.17, kl: 50.08:\n",
      "validation | elbo: -847949.715584, log_px: -843345.81, kl: 4603.94:\n",
      "epoch: 15/1000\n",
      "training | elbo: 4656.338776, log_px: 4706.52, kl: 50.18:\n",
      "validation | elbo: -794665.206657, log_px: -790344.83, kl: 4320.41:\n",
      "epoch: 16/1000\n",
      "training | elbo: 5010.155731, log_px: 5061.64, kl: 51.49:\n",
      "validation | elbo: -747662.168737, log_px: -743591.58, kl: 4070.62:\n",
      "epoch: 17/1000\n",
      "training | elbo: 5238.094086, log_px: 5289.23, kl: 51.14:\n",
      "validation | elbo: -705842.285448, log_px: -701994.40, kl: 3847.92:\n",
      "epoch: 18/1000\n",
      "training | elbo: 5900.813919, log_px: 5952.37, kl: 51.56:\n",
      "validation | elbo: -668359.566657, log_px: -664712.87, kl: 3646.72:\n",
      "epoch: 19/1000\n",
      "training | elbo: 5149.124802, log_px: 5201.13, kl: 52.00:\n",
      "validation | elbo: -634646.398041, log_px: -631179.86, kl: 3466.56:\n",
      "epoch: 20/1000\n",
      "training | elbo: 5484.561264, log_px: 5536.39, kl: 51.83:\n",
      "validation | elbo: -604190.998157, log_px: -600887.92, kl: 3303.10:\n",
      "epoch: 21/1000\n",
      "training | elbo: 4986.317581, log_px: 5038.36, kl: 52.04:\n",
      "validation | elbo: -576500.977067, log_px: -573344.40, kl: 3156.60:\n",
      "epoch: 22/1000\n",
      "training | elbo: 5999.768677, log_px: 6053.15, kl: 53.38:\n",
      "validation | elbo: -551180.925224, log_px: -548159.50, kl: 3021.45:\n",
      "epoch: 23/1000\n",
      "training | elbo: 6417.874237, log_px: 6472.57, kl: 54.69:\n",
      "validation | elbo: -527914.497696, log_px: -525016.80, kl: 2897.73:\n",
      "epoch: 24/1000\n",
      "training | elbo: 5517.230148, log_px: 5571.30, kl: 54.07:\n",
      "validation | elbo: -506740.494976, log_px: -503956.84, kl: 2783.67:\n",
      "epoch: 25/1000\n",
      "training | elbo: 5182.287659, log_px: 5238.51, kl: 56.22:\n",
      "validation | elbo: -487049.115793, log_px: -484369.43, kl: 2679.71:\n",
      "epoch: 26/1000\n",
      "training | elbo: 6783.174957, log_px: 6841.90, kl: 58.73:\n",
      "validation | elbo: -469047.054134, log_px: -466464.85, kl: 2582.22:\n",
      "epoch: 27/1000\n",
      "training | elbo: 8274.729401, log_px: 8336.72, kl: 62.00:\n",
      "validation | elbo: -451971.288110, log_px: -449478.19, kl: 2493.11:\n",
      "epoch: 28/1000\n",
      "training | elbo: 7450.547028, log_px: 7511.38, kl: 60.83:\n",
      "validation | elbo: -436094.252549, log_px: -433684.82, kl: 2409.45:\n",
      "epoch: 29/1000\n",
      "training | elbo: 7786.291283, log_px: 7849.32, kl: 63.02:\n",
      "validation | elbo: -421243.538597, log_px: -418912.70, kl: 2330.86:\n",
      "epoch: 30/1000\n",
      "training | elbo: 8540.907471, log_px: 8602.70, kl: 61.79:\n",
      "validation | elbo: -407325.319358, log_px: -405067.67, kl: 2257.67:\n",
      "epoch: 31/1000\n",
      "training | elbo: 9047.685471, log_px: 9110.48, kl: 62.80:\n",
      "validation | elbo: -394239.333395, log_px: -392050.60, kl: 2188.75:\n",
      "epoch: 32/1000\n",
      "training | elbo: 9778.445892, log_px: 9843.00, kl: 64.55:\n",
      "validation | elbo: -381982.391770, log_px: -379857.47, kl: 2124.94:\n",
      "epoch: 33/1000\n",
      "training | elbo: 9195.055267, log_px: 9258.08, kl: 63.02:\n",
      "validation | elbo: -370454.501226, log_px: -368390.62, kl: 2063.90:\n",
      "epoch: 34/1000\n",
      "training | elbo: 8706.364471, log_px: 8772.80, kl: 66.44:\n",
      "validation | elbo: -359729.155725, log_px: -357722.34, kl: 2006.83:\n",
      "epoch: 35/1000\n",
      "training | elbo: 7571.318756, log_px: 7636.18, kl: 64.86:\n",
      "validation | elbo: -349474.838818, log_px: -347522.52, kl: 1952.33:\n",
      "epoch: 36/1000\n",
      "training | elbo: 7969.174438, log_px: 8034.56, kl: 65.38:\n",
      "validation | elbo: -339761.077048, log_px: -337860.20, kl: 1900.89:\n",
      "epoch: 37/1000\n",
      "training | elbo: 9378.395264, log_px: 9443.26, kl: 64.87:\n",
      "validation | elbo: -330522.036446, log_px: -328669.18, kl: 1852.87:\n",
      "epoch: 38/1000\n",
      "training | elbo: 12152.490173, log_px: 12219.18, kl: 66.69:\n",
      "validation | elbo: -321746.298607, log_px: -319939.08, kl: 1807.24:\n",
      "epoch: 39/1000\n",
      "training | elbo: 11414.260620, log_px: 11480.84, kl: 66.58:\n",
      "validation | elbo: -313414.198564, log_px: -311650.25, kl: 1763.96:\n",
      "epoch: 40/1000\n",
      "training | elbo: 8479.532196, log_px: 8547.07, kl: 67.54:\n",
      "validation | elbo: -305602.580583, log_px: -303879.55, kl: 1723.04:\n",
      "epoch: 41/1000\n",
      "training | elbo: 7994.030212, log_px: 8062.89, kl: 68.86:\n",
      "validation | elbo: -298178.974614, log_px: -296495.59, kl: 1683.40:\n",
      "epoch: 42/1000\n",
      "training | elbo: 6523.148834, log_px: 6592.85, kl: 69.70:\n",
      "validation | elbo: -291008.000186, log_px: -289362.51, kl: 1645.51:\n",
      "epoch: 43/1000\n",
      "training | elbo: 10678.464600, log_px: 10749.31, kl: 70.85:\n",
      "validation | elbo: -284113.626824, log_px: -282504.00, kl: 1609.64:\n",
      "epoch: 44/1000\n",
      "training | elbo: 7373.872253, log_px: 7444.56, kl: 70.68:\n",
      "validation | elbo: -277584.546662, log_px: -276009.27, kl: 1575.29:\n",
      "epoch: 45/1000\n",
      "training | elbo: 6589.840149, log_px: 6661.29, kl: 71.45:\n",
      "validation | elbo: -271403.195911, log_px: -269859.99, kl: 1543.22:\n",
      "epoch: 46/1000\n"
     ]
    }
   ],
   "source": [
    "num_epochs = 1000\n",
    "batch_size = 16\n",
    "\n",
    "device = torch.device(\"cuda:0\" if torch.cuda.is_available() else \"cpu\")\n",
    "print(f\">> Using device: {device}\")\n",
    "\n",
    "train_loader = DataLoader(train_set, batch_size=batch_size, shuffle=True, num_workers=0, drop_last=True)\n",
    "\n",
    "# move the model to the device\n",
    "vae = vae.to(device)\n",
    "\n",
    "# training..\n",
    "\n",
    "for epoch in range(num_epochs):\n",
    "    print(f\"epoch: {epoch}/{num_epochs}\")    \n",
    "\n",
    "    training_epoch_data = defaultdict(list)\n",
    "    vae.train()\n",
    "\n",
    "    for x in train_loader:\n",
    "        x = x.to(device)\n",
    "        \n",
    "        # perform a forward pass through the model and compute the ELBO\n",
    "        loss, diagnostics, outputs = vi(vae, x)\n",
    "\n",
    "        optimizer.zero_grad()\n",
    "        loss.backward()\n",
    "        nn.utils.clip_grad_norm_(vae.parameters(), 10_000)\n",
    "        optimizer.step()\n",
    "\n",
    "        # gather data for the current batch\n",
    "        for k, v in diagnostics.items():\n",
    "            training_epoch_data[k] += [v.mean().item()]\n",
    "\n",
    "    print(\"training | elbo: {:2f}, log_px: {:.2f}, kl: {:.2f}:\".format(np.mean(training_epoch_data[\"elbo\"]), np.mean(training_epoch_data[\"log_px\"]), np.mean(training_epoch_data[\"kl\"])))\n",
    "\n",
    "    # gather data for the full epoch\n",
    "    for k, v in training_epoch_data.items():\n",
    "        training_data[k] += [np.mean(training_epoch_data[k])]\n",
    "\n",
    "    # Evaluate on a single batch, do not propagate gradients\n",
    "    with torch.no_grad():\n",
    "        vae.eval()\n",
    "\n",
    "        # Just load a single batch from the test loader\n",
    "        '''x, y = next(iter(test_loader))'''\n",
    "        x = x.to(device)\n",
    "\n",
    "        # perform a forward pass through the model and compute the ELBO\n",
    "        loss, diagnostics, outputs = vi(vae, x)\n",
    "\n",
    "        # gather data for the validation step\n",
    "        for k, v in diagnostics.items():\n",
    "            validation_data[k] += [v.mean().item()]\n",
    "\n",
    "    print(\"validation | elbo: {:2f}, log_px: {:.2f}, kl: {:.2f}:\".format(np.mean(validation_data[\"elbo\"]), np.mean(validation_data[\"log_px\"]), np.mean(validation_data[\"kl\"])))    "
   ]
  },
  {
   "cell_type": "code",
   "execution_count": null,
   "metadata": {
    "cell_id": "d741e8e33b04435db434287332c9e96a",
    "deepnote_cell_type": "code",
    "deepnote_to_be_reexecuted": false,
    "execution_millis": 784,
    "execution_start": 1668533868552,
    "source_hash": "88e844e"
   },
   "outputs": [],
   "source": [
    "plt.plot(training_data[\"elbo\"])"
   ]
  },
  {
   "cell_type": "markdown",
   "metadata": {
    "cell_id": "38f55a130f7542d5bcbb1afb22d361bf",
    "deepnote_cell_type": "markdown"
   },
   "source": [
    "## Compare reconstruction and original image"
   ]
  },
  {
   "cell_type": "code",
   "execution_count": null,
   "metadata": {
    "cell_id": "845aa77120a94f608bcbf4ae933e7609",
    "deepnote_cell_type": "code",
    "deepnote_to_be_reexecuted": false,
    "execution_millis": 18,
    "execution_start": 1668533879605,
    "source_hash": "9aa1ea6c"
   },
   "outputs": [],
   "source": [
    "x = train_set[0]"
   ]
  },
  {
   "cell_type": "code",
   "execution_count": null,
   "metadata": {
    "cell_id": "cfad113524184a279df7d73b4906be9f",
    "deepnote_cell_type": "code",
    "deepnote_to_be_reexecuted": false,
    "execution_millis": 717,
    "execution_start": 1668533891834,
    "source_hash": "f71a79cc"
   },
   "outputs": [],
   "source": [
    "plot_image(x)"
   ]
  },
  {
   "cell_type": "code",
   "execution_count": null,
   "metadata": {
    "cell_id": "2f0aad8f7c694742a7c4f86541691efa",
    "deepnote_cell_type": "code",
    "deepnote_to_be_reexecuted": false,
    "execution_millis": 1318,
    "execution_start": 1668533896933,
    "source_hash": "59410032",
    "tags": []
   },
   "outputs": [],
   "source": [
    "# vae.eval() # because of batch normalization\n",
    "outputs = vae(x[None,:,:,:])\n",
    "px = outputs[\"px\"]\n",
    "\n",
    "x_reconstruction = px.sample()\n",
    "x_reconstruction = x_reconstruction[0]\n",
    "plot_image_channels(x_reconstruction)"
   ]
  },
  {
   "cell_type": "code",
   "execution_count": null,
   "metadata": {
    "cell_id": "02fcaed845ad4517be71a219e4fd8e5f",
    "deepnote_cell_type": "code",
    "deepnote_to_be_reexecuted": false,
    "execution_millis": 1397,
    "execution_start": 1668533899041,
    "source_hash": "fc39f3a8",
    "tags": []
   },
   "outputs": [],
   "source": [
    "plot_image_channels(x)"
   ]
  },
  {
   "cell_type": "code",
   "execution_count": null,
   "metadata": {
    "cell_id": "4a38720c94a247c38a7836f9bf2f80e3",
    "deepnote_cell_type": "code",
    "deepnote_to_be_reexecuted": false,
    "execution_millis": 1513,
    "execution_start": 1668533900217,
    "source_hash": "b4c9cf8a",
    "tags": []
   },
   "outputs": [],
   "source": [
    "x_reconstruction = px.sample()\n",
    "x_reconstruction = x_reconstruction[0]\n",
    "plot_image(clip_image_to_zero_one(x_reconstruction))"
   ]
  },
  {
   "cell_type": "code",
   "execution_count": null,
   "metadata": {
    "cell_id": "19a830d34463493c9f716e5189fead55",
    "deepnote_cell_type": "code",
    "deepnote_to_be_reexecuted": false,
    "execution_start": 1668531557330,
    "source_hash": "b623e53d",
    "tags": []
   },
   "outputs": [],
   "source": []
  }
 ],
 "metadata": {
  "deepnote": {},
  "deepnote_execution_queue": [],
  "deepnote_notebook_id": "d2059ce0701f4cb4bc01ee931dc0f39b",
  "deepnote_persisted_session": {
   "createdAt": "2022-11-14T22:47:34.652Z"
  },
  "kernelspec": {
   "display_name": "Python 3 (ipykernel)",
   "language": "python",
   "name": "python3"
  },
  "language_info": {
   "codemirror_mode": {
    "name": "ipython",
    "version": 3
   },
   "file_extension": ".py",
   "mimetype": "text/x-python",
   "name": "python",
   "nbconvert_exporter": "python",
   "pygments_lexer": "ipython3",
   "version": "3.9.13"
  }
 },
 "nbformat": 4,
 "nbformat_minor": 1
}
