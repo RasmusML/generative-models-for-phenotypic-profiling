{
 "cells": [
  {
   "cell_type": "code",
   "execution_count": 5,
   "id": "b861986f-5e21-47c0-86ba-26a4e44345fe",
   "metadata": {},
   "outputs": [
    {
     "name": "stdout",
     "output_type": "stream",
     "text": [
      "4.5399929762484854e-05\n"
     ]
    }
   ],
   "source": [
    "from math import exp\n",
    "print(exp(-10))"
   ]
  },
  {
   "cell_type": "code",
   "execution_count": null,
   "id": "f522e989-2f5c-41fd-90ea-a5f45f83a450",
   "metadata": {},
   "outputs": [],
   "source": []
  }
 ],
 "metadata": {
  "kernelspec": {
   "display_name": "Python 3 (ipykernel)",
   "language": "python",
   "name": "python3"
  },
  "language_info": {
   "codemirror_mode": {
    "name": "ipython",
    "version": 3
   },
   "file_extension": ".py",
   "mimetype": "text/x-python",
   "name": "python",
   "nbconvert_exporter": "python",
   "pygments_lexer": "ipython3",
   "version": "3.10.7"
  }
 },
 "nbformat": 4,
 "nbformat_minor": 5
}
