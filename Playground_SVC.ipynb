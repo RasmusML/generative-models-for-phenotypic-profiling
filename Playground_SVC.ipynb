{
 "cells": [
  {
   "cell_type": "code",
   "execution_count": 5,
   "metadata": {
    "cell_id": "08b53a2dee0a4465bc12474391d1530a",
    "deepnote_cell_type": "code",
    "deepnote_to_be_reexecuted": false,
    "execution_millis": 1874,
    "execution_start": 1669669508104,
    "source_hash": "35ae7290"
   },
   "outputs": [
    {
     "name": "stdout",
     "output_type": "stream",
     "text": [
      "The autoreload extension is already loaded. To reload it, use:\n",
      "  %reload_ext autoreload\n"
     ]
    }
   ],
   "source": [
    "%matplotlib inline\n",
    "%load_ext autoreload\n",
    "%autoreload 2\n",
    "\n",
    "import matplotlib.pyplot as plt"
   ]
  },
  {
   "cell_type": "code",
   "execution_count": 6,
   "metadata": {
    "cell_id": "7c80a60dfb4c4ebabf47af291b074b69",
    "deepnote_cell_type": "code",
    "deepnote_to_be_reexecuted": false,
    "execution_millis": 1109,
    "execution_start": 1669670757760,
    "source_hash": "58a8c7d7"
   },
   "outputs": [],
   "source": [
    "%matplotlib inline\n",
    "import matplotlib.pyplot as plt\n",
    "\n",
    "from typing import List, Set, Dict, Tuple, Optional, Any\n",
    "from collections import defaultdict\n",
    "\n",
    "import pandas as pd\n",
    "import seaborn as sns\n",
    "import numpy as np\n",
    "\n",
    "import math \n",
    "import torch\n",
    "from torch import nn, Tensor\n",
    "from torch.nn.functional import softplus, relu\n",
    "from torch.distributions import Distribution, Normal\n",
    "from torch.utils.data import DataLoader, Dataset\n",
    "from sklearn.metrics import confusion_matrix\n",
    "\n",
    "from gmfpp.utils.data_preparation import *\n",
    "from gmfpp.utils.data_transformers import *\n",
    "from gmfpp.utils.plotting import *\n",
    "from gmfpp.utils.training import *\n",
    "\n",
    "from gmfpp.models.ReparameterizedDiagonalGaussian import *\n",
    "from gmfpp.models.CytoVariationalAutoencoder import *\n",
    "from gmfpp.models.VariationalAutoencoder import *\n",
    "from gmfpp.models.ConvVariationalAutoencoder import *\n",
    "from gmfpp.models.VariationalInference_nonvar import *\n",
    "from gmfpp.models.LoadModels import *\n"
   ]
  },
  {
   "cell_type": "code",
   "execution_count": 7,
   "metadata": {
    "cell_id": "619f8592ccc24db7b38f8751653afaa8",
    "deepnote_cell_type": "code",
    "deepnote_to_be_reexecuted": false,
    "execution_millis": 40,
    "execution_start": 1669669514684,
    "source_hash": "e420a3ce"
   },
   "outputs": [],
   "source": [
    "constant_seed()\n",
    "datetime = get_datetime()\n",
    "output_folder = \"dump/outputs_{}/\".format(datetime)\n",
    "create_directory(output_folder)\n",
    "logfile = create_logfile(output_folder + \"log.log\")\n"
   ]
  },
  {
   "cell_type": "code",
   "execution_count": 8,
   "metadata": {
    "cell_id": "59a4da817c9b473fa55c81735e1c9e78",
    "deepnote_cell_type": "code",
    "deepnote_to_be_reexecuted": false,
    "execution_millis": 39,
    "execution_start": 1669669515708,
    "source_hash": "53f39e85"
   },
   "outputs": [
    {
     "name": "stdout",
     "output_type": "stream",
     "text": [
      "15:27:29 | Using device: cpu\n"
     ]
    }
   ],
   "source": [
    "device = torch.device(\"cuda:0\" if torch.cuda.is_available() else \"cpu\")\n",
    "cprint(f\"Using device: {device}\", logfile)"
   ]
  },
  {
   "cell_type": "code",
   "execution_count": 10,
   "metadata": {
    "cell_id": "f8031d10d41441738d7da30fb6b69a43",
    "deepnote_cell_type": "code",
    "deepnote_to_be_reexecuted": false,
    "execution_millis": 3,
    "execution_start": 1669669516315,
    "source_hash": "b623e53d"
   },
   "outputs": [
    {
     "name": "stdout",
     "output_type": "stream",
     "text": [
      "15:27:58 | loaded metadata\n",
      "15:27:58 | loading images\n",
      "15:27:58 | loaded 0/2 images (0.00%).\n",
      "15:27:58 | loaded 2/2 images (100.00%).\n",
      "15:27:58 | loaded images\n",
      "15:27:58 | normalized images\n"
     ]
    }
   ],
   "source": [
    "\n",
    "#path = get_server_directory_path()\n",
    "path = \"data/all/\"\n",
    "\n",
    "metadata = read_metadata(path + \"metadata.csv\")\n",
    "metadata = metadata[:2]\n",
    "cprint(\"loaded metadata\",logfile)\n",
    "\n",
    "cprint(\"loading images\", logfile)\n",
    "relative_paths = get_relative_image_paths(metadata)\n",
    "image_paths = [path + relative for relative in relative_paths]\n",
    "images = load_images(image_paths, verbose=True, log_every=10000, logfile=logfile)\n",
    "#images = torch.load(\"dump/all_data.pt\")\n",
    "mapping = get_MOA_mappings(metadata)\n",
    "cprint(\"loaded images\", logfile)\n",
    "normalize_every_image_channels_seperately_inplace(images)\n",
    "cprint(\"normalized images\", logfile)\n",
    "\n",
    "metadata = shuffle_metadata(metadata)\n",
    "metadata_train, metadata_validation = split_metadata(metadata, split_fraction = .90)\n",
    "#metadata_train, metadata_validation = metadata, metadata\n"
   ]
  },
  {
   "cell_type": "code",
   "execution_count": 11,
   "metadata": {
    "cell_id": "3e47070456fb452e8b1a6e619dc73fba",
    "deepnote_cell_type": "code",
    "deepnote_to_be_reexecuted": false,
    "execution_millis": 245,
    "execution_start": 1669669531732,
    "source_hash": "748c6ea4"
   },
   "outputs": [],
   "source": [
    "train_set = SingleCellDataset(metadata_train, images, mapping)\n",
    "validation_set = SingleCellDataset(metadata_validation, images, mapping)"
   ]
  },
  {
   "cell_type": "code",
   "execution_count": 12,
   "metadata": {},
   "outputs": [],
   "source": [
    "def initVAEmodel(latent_features= 256,\n",
    "                    beta = 1.,\n",
    "                    num_epochs = 1000,\n",
    "                    batch_size = 32,\n",
    "                    learning_rate = 1e-3,\n",
    "                    weight_decay = 10e-4,\n",
    "                    image_shape = np.array([3, 68, 68]),\n",
    "                    model_type = \"Cyto\"):\n",
    "\n",
    "    VAE_settings = {\n",
    "        'latent_features' : latent_features,\n",
    "        'beta' : beta,\n",
    "        'num_epochs' : num_epochs,\n",
    "        'batch_size' : batch_size,\n",
    "        'learning_rate' : learning_rate,\n",
    "        'weight_decay' : weight_decay,\n",
    "        'image_shape' : image_shape,\n",
    "        'model_type' : model_type\n",
    "        }\n",
    "        \n",
    "    training_performance = defaultdict(list)\n",
    "    validation_performance = defaultdict(list)\n",
    "\n",
    "    if (model_type == None) or model_type == \"Cyto\":\n",
    "        vae = CytoVariationalAutoencoder(VAE_settings['image_shape'], VAE_settings['latent_features'])\n",
    "    if model_type == 'Cyto_nonvar':\n",
    "        vae = CytoVariationalAutoencoder_nonvar(VAE_settings['image_shape'], VAE_settings['latent_features'])\n",
    "    if model_type == 'basic':\n",
    "        vae = VariationalAutoencoder(VAE_settings['image_shape'], VAE_settings['latent_features'])\n",
    "    if model_type == 'Conv_simon':\n",
    "        vae = ConvVariationalAutoencoder(VAE_settings['image_shape'], VAE_settings['latent_features'])\n",
    "    if model_type == 'SparseVAE':\n",
    "        vae = SparseVariationalAutoencoder(VAE_settings['image_shape'], VAE_settings['latent_features'])\n",
    "    \n",
    "    return vae, validation_performance, training_performance, VAE_settings"
   ]
  },
  {
   "cell_type": "code",
   "execution_count": 18,
   "metadata": {},
   "outputs": [],
   "source": []
  },
  {
   "cell_type": "code",
   "execution_count": 19,
   "metadata": {
    "cell_id": "284923a862a547f9b16b201ff9c78b49",
    "deepnote_cell_type": "code",
    "deepnote_to_be_reexecuted": false,
    "execution_millis": 1101,
    "execution_start": 1669671195088,
    "source_hash": "ece5cf1f",
    "tags": []
   },
   "outputs": [],
   "source": []
  },
  {
   "cell_type": "code",
   "execution_count": 67,
   "metadata": {
    "cell_id": "afbc4095f6c64f6189981e7c0c6ded0c",
    "deepnote_cell_type": "code",
    "deepnote_to_be_reexecuted": false,
    "execution_millis": 35,
    "execution_start": 1669672613609,
    "source_hash": "79331303"
   },
   "outputs": [],
   "source": [
    "class SparseVariationalAutoencoder(nn.Module):\n",
    "   \n",
    "    def __init__(self, input_shape, latent_features: int) -> None:\n",
    "        super(SparseVariationalAutoencoder, self).__init__()\n",
    "        #print(\"Init SVAE input_shape, latent_features: \", input_shape, latent_features)\n",
    "        self.input_shape = getattr(input_shape, \"tolist\", lambda: input_shape)()\n",
    "        #print(\"Init SVAE self.input_shape: \", tuple(self.input_shape))\n",
    "        \n",
    "        self.latent_features = latent_features\n",
    "        self.observation_features = np.prod(input_shape)\n",
    "\n",
    "        self.encoder = nn.Sequential(\n",
    "            nn.Flatten(),\n",
    "            nn.Linear(in_features=self.observation_features, out_features=256),\n",
    "            nn.ReLU(),\n",
    "            nn.Linear(in_features=256, out_features=128),\n",
    "            nn.ReLU(),\n",
    "            nn.Linear(in_features=128, out_features=3*latent_features)\n",
    "        )\n",
    "        \n",
    "        self.decoder = nn.Sequential(\n",
    "            nn.Linear(in_features=latent_features, out_features=128),\n",
    "            nn.ReLU(),\n",
    "            nn.Linear(in_features=128, out_features=256),\n",
    "            nn.ReLU(),\n",
    "            nn.Linear(in_features=256, out_features=1*self.observation_features),\n",
    "            nn.Unflatten(1,self.input_shape)\n",
    "        )\n",
    "        self.register_buffer('prior_params', torch.zeros(torch.Size([1, 2*latent_features])))\n",
    "        #print(\"Init SVAE end\")\n",
    "\n",
    "    def observation(self, z:Tensor) -> Tensor:\n",
    "        \"\"\"return the distribution `p(x|z)`\"\"\"\n",
    "        mu = self.decoder(z)\n",
    "        mu = mu.view(-1, *self.input_shape) # reshape the output\n",
    "        return mu\n",
    "    def ReparameterizedSpikeAndSlab_sample(mu, log_sigma, log_gamma):\n",
    "        eps = torch.empty_like(log_sigma.exp()).normal_()\n",
    "        eta = torch.empty_like(log_sigma.exp()).normal_()\n",
    "        selector = nn.functional.sigmoid(log_gamma.exp() + eta -1)    \n",
    "        return selector * (mu + eps.mul(log_sigma.exp()))\n",
    "    \n",
    "    def forward(self, x) -> Dict[str, Any]:\n",
    "        # flatten the input\n",
    "        #x = x.reshape(x.size(0), -1)\n",
    "        h_z = self.encoder(x)\n",
    "        qz_mu, qz_log_sigma, qz_log_gamma = h_z.chunk(3, dim=-1)\n",
    "\n",
    "        #print(\"mu.shape\", mu.shape) # should be dim batch, x, y, channel\n",
    "        #print(\"log_sigma.shape\", log_sigma.shape) # should be dim batch, x, y, channel\n",
    "        #print(\"log_gamma.shape\", log_gamma.shape) # should be dim batch, x, y, channel, #latentvar\n",
    "        z = ReparameterizedSpikeAndSlab_sample(qz_mu, qz_log_sigma, qz_log_gamma)\n",
    "        x_hat = self.observation(z)\n",
    "        #print(\"x_hat.shape\", x_hat.shape) \n",
    "        \n",
    "        return {'x_hat': x_hat, \n",
    "                'z': z, \n",
    "                'qz_log_gamma': qz_log_gamma, \n",
    "                'qz_mu': qz_mu, \n",
    "                'qz_log_sigma':qz_log_sigma}\n",
    "    "
   ]
  },
  {
   "cell_type": "code",
   "execution_count": 366,
   "metadata": {
    "cell_id": "4c34eab4ece34331a1d2ba510a6b7b2a",
    "deepnote_cell_type": "code",
    "deepnote_to_be_reexecuted": false,
    "execution_millis": 92,
    "execution_start": 1669672616757,
    "source_hash": "d9947dee",
    "tags": []
   },
   "outputs": [],
   "source": [
    "def reduce(x:Tensor) -> Tensor:\n",
    "    \"\"\"for each datapoint: sum over all dimensions\"\"\"\n",
    "    flat = view_flat_samples(x)\n",
    "    return flat.sum(dim=1)\n",
    "\n",
    "class VariationalInference_SparseVAE(nn.Module):\n",
    "    def __init__(self, beta:float=1.):\n",
    "        super().__init__()\n",
    "        self.beta = beta\n",
    "        self.alpha = torch.Tensor([0.5])\n",
    "    def forward(self, model:nn.Module, x:Tensor) -> Tuple[Tensor, Dict]:\n",
    "        outputs = model(x)\n",
    "\n",
    "        x_hat, z, qz_log_gamma, qz_mu, qz_log_sigma = [outputs[k] for k in ['x_hat', 'z', 'qz_log_gamma', 'qz_mu', 'qz_log_sigma']]\n",
    "        \n",
    "        # My implementation\n",
    "        #qz_gamma = qz_log_gamma.exp()\n",
    "        #qz_gamma = torch.clamp(qz_log_gamma.exp(), 1e-6, 1.0 - 1e-6) \n",
    "        #KL_part1 = qz_gamma.mul(1 + qz_log_sigma * 2 - qz_mu ** 2 - qz_log_sigma.exp() ** 2)/2\n",
    "        #KL_part2 = -(1 - qz_gamma).mul(((1 - self.alpha).div(1 - qz_gamma)).log())\n",
    "        #KL_part3 = -qz_gamma.mul((self.alpha.div(qz_gamma)).log())\n",
    "        \n",
    "        # implementation from github\n",
    "        qz_gamma = torch.clamp(qz_log_gamma.exp(), 1e-6, 1.0 - 1e-6) \n",
    "        KL_part1 = 0.5 * qz_gamma.mul(1 + qz_log_sigma * 2 - qz_mu ** 2 - qz_log_sigma.exp() ** 2)\n",
    "        KL_part2 = (1 - qz_gamma).mul(((1 - self.alpha)/(1 - qz_gamma)).log())\n",
    "        KL_part3 = qz_gamma.mul((self.alpha/qz_gamma).log())\n",
    "    \n",
    "    \n",
    "#        meh = torch.log((1 - qz_gamma)/(1 - self.alpha))\n",
    "#        meh2 = 1 - qz_gamma\n",
    "#        print(\"torch.log((1 - qz_gamma)/(1 - self.alpha) number of nans\", meh.isnan().sum(axis=[1]))\n",
    "#        print(\"(1 - qz_gamma) number of nans\", meh2.isnan().sum(axis=[1]))\n",
    "#        print(\"KL_part1 number of nans\", KL_part1.isnan().sum(axis=[1]))\n",
    "#        print(\"KL_part2 number of nans\", KL_part2.isnan().sum(axis=[1]))\n",
    "#        print(\"KL_part3 number of nans\", KL_part3.isnan().sum(axis=[1]))\n",
    "#        print(\"qz_gamma number of nans\", qz_gamma.isnan().sum(axis=[1]))\n",
    "        \n",
    "#        print(\"(1 - qz_gamma)/(1 - self.alpha))==0 number of: \", (((1 - qz_gamma)/(1 - self.alpha))==0).sum(axis=[1]))\n",
    "#        print(\"qz_gamma\", qz_gamma)\n",
    "        KL = -(KL_part1 + KL_part2 + KL_part3).sum(axis=[1])\n",
    "#        print(\"KL\", KL)\n",
    "#        print(\"KL.shape\", KL.shape)\n",
    "        \n",
    "        mse_loss = ((x_hat - x)**2).sum(axis=[1,2,3])\n",
    "#        print(\"mse_loss.shape\", mse_loss.shape)\n",
    "\n",
    "        beta_elbo = -self.beta * KL - mse_loss\n",
    "\n",
    "        loss = -beta_elbo.mean()\n",
    "        \n",
    "        # prepare the output\n",
    "        with torch.no_grad():\n",
    "            diagnostics = {'elbo': beta_elbo, 'mse_loss':mse_loss, 'kl': KL, 'loss': loss}\n",
    "            \n",
    "        return loss, diagnostics, outputs"
   ]
  },
  {
   "cell_type": "code",
   "execution_count": 367,
   "metadata": {},
   "outputs": [],
   "source": [
    "vae, validation_data, training_data, VAE_settings = initVAEmodel(latent_features= 256,\n",
    "                                                                    beta = 1.0,\n",
    "                                                                    num_epochs = 1000,\n",
    "                                                                    batch_size = min(64, len(train_set)),\n",
    "                                                                    learning_rate = 1e-3,\n",
    "                                                                    weight_decay = 1e-3,\n",
    "                                                                    image_shape = np.array([3, 68, 68]),\n",
    "                                                                    model_type = \"SparseVAE\"\n",
    "                                                                    )"
   ]
  },
  {
   "cell_type": "code",
   "execution_count": 368,
   "metadata": {
    "cell_id": "1dc2d2ba0a094a5d83c20998ad95f881",
    "deepnote_cell_type": "code",
    "deepnote_to_be_reexecuted": false,
    "execution_millis": 29,
    "execution_start": 1669672617839,
    "source_hash": "3a7e3643"
   },
   "outputs": [],
   "source": [
    "vae = vae.to(device)\n",
    "optimizer = torch.optim.Adam(vae.parameters(), lr=VAE_settings['learning_rate'], weight_decay=VAE_settings['weight_decay'])\n",
    "\n",
    "vi = VariationalInference_SparseVAE(beta=VAE_settings['beta'])"
   ]
  },
  {
   "cell_type": "code",
   "execution_count": 369,
   "metadata": {
    "cell_id": "dfe94db5200745d98580b7f2f5fb6981",
    "deepnote_cell_type": "code",
    "deepnote_to_be_reexecuted": false,
    "execution_millis": 40,
    "execution_start": 1669672618705,
    "source_hash": "ce571e6f",
    "tags": []
   },
   "outputs": [],
   "source": [
    "train_loader = DataLoader(train_set, batch_size=VAE_settings['batch_size'], shuffle=True, num_workers=0, drop_last=True)\n",
    "validation_loader = DataLoader(validation_set, batch_size=VAE_settings['batch_size'], shuffle=False, num_workers=0, drop_last=False)\n"
   ]
  },
  {
   "cell_type": "code",
   "execution_count": 370,
   "metadata": {},
   "outputs": [
    {
     "name": "stdout",
     "output_type": "stream",
     "text": [
      "10:36:26 | VAE Training\n"
     ]
    }
   ],
   "source": [
    "######### VAE Training #########\n",
    "cprint(\"VAE Training\", logfile)\n",
    "\n",
    "num_epochs = VAE_settings['num_epochs']\n",
    "batch_size = VAE_settings['batch_size']\n",
    "\n",
    "print_every = 100\n",
    "impatience_level = 0\n",
    "max_patience = 100\n",
    "\n",
    "best_elbo = np.finfo(np.float64).min"
   ]
  },
  {
   "cell_type": "code",
   "execution_count": 371,
   "metadata": {},
   "outputs": [
    {
     "name": "stdout",
     "output_type": "stream",
     "text": [
      "10:36:26 | \n",
      "\n",
      "epoch START: 0/1000\n",
      "10:36:26 | epoch: 0/1000\n",
      "10:36:26 | training \t| elbo: -3635.8994, \tmse_loss: 3486.9224, \tkl: 148.9772, \tloss: 3635.8994, \t\n",
      "10:36:26 | evaluation \t| elbo: nan, \tmse_loss: nan, \tkl: nan, \tloss: nan, \t\n",
      "10:36:28 | \n",
      "\n",
      "epoch START: 100/1000\n",
      "10:36:28 | epoch: 100/1000\n",
      "10:36:28 | training \t| elbo: -322.1900, \tmse_loss: 285.1215, \tkl: 37.0685, \tloss: 322.1900, \t\n",
      "10:36:28 | evaluation \t| elbo: nan, \tmse_loss: nan, \tkl: nan, \tloss: nan, \t\n",
      "10:36:30 | \n",
      "\n",
      "epoch START: 200/1000\n",
      "10:36:30 | epoch: 200/1000\n",
      "10:36:30 | training \t| elbo: -128.7908, \tmse_loss: 103.1486, \tkl: 25.6421, \tloss: 128.7908, \t\n",
      "10:36:30 | evaluation \t| elbo: nan, \tmse_loss: nan, \tkl: nan, \tloss: nan, \t\n",
      "10:36:32 | \n",
      "\n",
      "epoch START: 300/1000\n",
      "10:36:32 | epoch: 300/1000\n",
      "10:36:32 | training \t| elbo: -58.7887, \tmse_loss: 41.0289, \tkl: 17.7598, \tloss: 58.7887, \t\n",
      "10:36:32 | evaluation \t| elbo: nan, \tmse_loss: nan, \tkl: nan, \tloss: nan, \t\n",
      "10:36:34 | \n",
      "\n",
      "epoch START: 400/1000\n",
      "10:36:35 | epoch: 400/1000\n",
      "10:36:35 | training \t| elbo: -52.7663, \tmse_loss: 39.4024, \tkl: 13.3639, \tloss: 52.7663, \t\n",
      "10:36:35 | evaluation \t| elbo: nan, \tmse_loss: nan, \tkl: nan, \tloss: nan, \t\n",
      "10:36:37 | \n",
      "\n",
      "epoch START: 500/1000\n",
      "10:36:37 | epoch: 500/1000\n",
      "10:36:37 | training \t| elbo: -53.6172, \tmse_loss: 35.0727, \tkl: 18.5446, \tloss: 53.6172, \t\n",
      "10:36:37 | evaluation \t| elbo: nan, \tmse_loss: nan, \tkl: nan, \tloss: nan, \t\n",
      "10:36:39 | \n",
      "\n",
      "epoch START: 600/1000\n",
      "10:36:39 | epoch: 600/1000\n",
      "10:36:39 | training \t| elbo: -21.2945, \tmse_loss: 10.2182, \tkl: 11.0762, \tloss: 21.2945, \t\n",
      "10:36:39 | evaluation \t| elbo: nan, \tmse_loss: nan, \tkl: nan, \tloss: nan, \t\n",
      "10:36:41 | \n",
      "\n",
      "epoch START: 700/1000\n",
      "10:36:41 | epoch: 700/1000\n",
      "10:36:41 | training \t| elbo: -23.7962, \tmse_loss: 12.6989, \tkl: 11.0973, \tloss: 23.7962, \t\n",
      "10:36:41 | evaluation \t| elbo: nan, \tmse_loss: nan, \tkl: nan, \tloss: nan, \t\n",
      "10:36:43 | \n",
      "\n",
      "epoch START: 800/1000\n",
      "10:36:43 | epoch: 800/1000\n",
      "10:36:43 | training \t| elbo: -23.8457, \tmse_loss: 10.4336, \tkl: 13.4121, \tloss: 23.8457, \t\n",
      "10:36:43 | evaluation \t| elbo: nan, \tmse_loss: nan, \tkl: nan, \tloss: nan, \t\n",
      "10:36:45 | \n",
      "\n",
      "epoch START: 900/1000\n",
      "10:36:45 | epoch: 900/1000\n",
      "10:36:45 | training \t| elbo: -16.6700, \tmse_loss: 8.1600, \tkl: 8.5101, \tloss: 16.6700, \t\n",
      "10:36:45 | evaluation \t| elbo: nan, \tmse_loss: nan, \tkl: nan, \tloss: nan, \t\n"
     ]
    }
   ],
   "source": [
    "for epoch in range(num_epochs):\n",
    "    if epoch % print_every == 0:\n",
    "        cprint(f\"\\n\\nepoch START: {epoch}/{num_epochs}\", logfile)\n",
    "\n",
    "    training_epoch_data = defaultdict(list)\n",
    "    vae.train()\n",
    "    \n",
    "    for x, _ in train_loader:\n",
    "        x = x.to(device)\n",
    "        # perform a forward pass through the model and compute the ELBO\n",
    "        loss, diagnostics, outputs = vi(vae, x)\n",
    "        \n",
    "        optimizer.zero_grad()\n",
    "        loss.backward()\n",
    "        nn.utils.clip_grad_norm_(vae.parameters(), 10_000)\n",
    "        optimizer.step()\n",
    "        \n",
    "        for k, v in diagnostics.items():\n",
    "            training_epoch_data[k] += [v.mean().item()]\n",
    "    \n",
    "    for k, v in training_epoch_data.items():\n",
    "        training_data[k] += [np.mean(training_epoch_data[k])]\n",
    "    \n",
    "    with torch.no_grad():\n",
    "        vae.eval()\n",
    "        \n",
    "        validation_epoch_data = defaultdict(list)\n",
    "        \n",
    "        for x, _ in validation_loader:\n",
    "            x = x.to(device)\n",
    "            \n",
    "            loss, diagnostics, outputs = vi(vae, x)\n",
    "            \n",
    "            for k, v in diagnostics.items():\n",
    "                validation_epoch_data[k] += [v.mean().item()]\n",
    "        \n",
    "        for k, v in diagnostics.items():\n",
    "            validation_data[k] += [np.mean(validation_epoch_data[k])]\n",
    "        \n",
    "        impatience_level += 1\n",
    "        \n",
    "        current_elbo = validation_data[\"elbo\"][-1]\n",
    "\n",
    "        if epoch % print_every == 0:\n",
    "            cprint(f\"epoch: {epoch}/{num_epochs}\", logfile)\n",
    "            train_string = StatusString(\"training\", training_epoch_data)\n",
    "            evalString = StatusString(\"evaluation\", validation_data)\n",
    "            cprint(train_string, logfile)\n",
    "            cprint(evalString, logfile)\n",
    "\n"
   ]
  },
  {
   "cell_type": "code",
   "execution_count": null,
   "metadata": {},
   "outputs": [],
   "source": []
  },
  {
   "cell_type": "code",
   "execution_count": null,
   "metadata": {},
   "outputs": [],
   "source": []
  },
  {
   "cell_type": "code",
   "execution_count": null,
   "metadata": {},
   "outputs": [],
   "source": []
  },
  {
   "cell_type": "code",
   "execution_count": 372,
   "metadata": {
    "cell_id": "f4175b0fb7c645baa70c7c1b8e55aeb0",
    "deepnote_cell_type": "code",
    "deepnote_to_be_reexecuted": true,
    "source_hash": "4b5b7349"
   },
   "outputs": [
    {
     "data": {
      "image/png": "[encoded data removed]",
      "text/plain": [
       "<Figure size 1400x600 with 4 Axes>"
      ]
     },
     "metadata": {},
     "output_type": "display_data"
    },
    {
     "data": {
      "image/png": "[encoded data removed]",
      "text/plain": [
       "<Figure size 1400x600 with 4 Axes>"
      ]
     },
     "metadata": {},
     "output_type": "display_data"
    }
   ],
   "source": [
    "plot_VAE_performance(training_data, title='VAE - learning')\n",
    "plot_VAE_performance(validation_data, title='VAE - validation')"
   ]
  },
  {
   "cell_type": "code",
   "execution_count": null,
   "metadata": {
    "cell_id": "79dfe2d791ff463e8c75aa82c74089fe",
    "deepnote_cell_type": "code",
    "deepnote_to_be_reexecuted": true,
    "source_hash": "b623e53d"
   },
   "outputs": [],
   "source": []
  },
  {
   "cell_type": "code",
   "execution_count": null,
   "metadata": {
    "cell_id": "4722e8bd05fd494ead274060de7e31b0",
    "deepnote_cell_type": "code",
    "deepnote_to_be_reexecuted": true,
    "source_hash": "b623e53d"
   },
   "outputs": [],
   "source": []
  },
  {
   "cell_type": "markdown",
   "metadata": {
    "created_in_deepnote_cell": true,
    "deepnote_cell_type": "markdown",
    "tags": []
   },
   "source": [
    "<a style='text-decoration:none;line-height:16px;display:flex;color:#5B5B62;padding:10px;justify-content:end;' href='https://deepnote.com?utm_source=created-in-deepnote-cell&projectId=2d704ace-07ad-46d7-b65e-50921c60f0ae' target=\"_blank\">\n",
    "<img alt='Created in deepnote.com' style='display:inline;max-height:16px;margin:0px;margin-right:7.5px;' src='data:image/svg+xml;base64,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' > </img>\n",
    "Created in <span style='font-weight:600;margin-left:4px;'>Deepnote</span></a>"
   ]
  }
 ],
 "metadata": {
  "deepnote": {},
  "deepnote_execution_queue": [],
  "deepnote_notebook_id": "1e2dceb85dc7438c92d6cdeb16893290",
  "kernelspec": {
   "display_name": "Python 3 (ipykernel)",
   "language": "python",
   "name": "python3"
  },
  "language_info": {
   "codemirror_mode": {
    "name": "ipython",
    "version": 3
   },
   "file_extension": ".py",
   "mimetype": "text/x-python",
   "name": "python",
   "nbconvert_exporter": "python",
   "pygments_lexer": "ipython3",
   "version": "3.10.7"
  }
 },
 "nbformat": 4,
 "nbformat_minor": 4
}
