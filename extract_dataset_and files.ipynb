{
 "cells": [
  {
   "cell_type": "code",
   "execution_count": 57,
   "id": "2b8dc22f-d98b-4361-ba40-2ed323905904",
   "metadata": {},
   "outputs": [],
   "source": [
    "from gmfpp.utils.data_preparation import *\n",
    "import os\n",
    "import shutil"
   ]
  },
  {
   "cell_type": "code",
   "execution_count": 58,
   "id": "c7e147c7",
   "metadata": {},
   "outputs": [],
   "source": [
    "source_root = \"./data/all/\"\n",
    "\n",
    "#target_root = \"./data/two_from_each_compound/\"\n",
    "#target_root = \"./data/two_from_each_mos/\"\n",
    "target_root = \"./data/two_from_each_well/\"\n",
    "\n",
    "metadata = read_metadata(source_root + \"/metadata.csv\")\n",
    "metadata = drop_redundant_metadata_columns(metadata)"
   ]
  },
  {
   "cell_type": "code",
   "execution_count": 59,
   "id": "b6f5658c",
   "metadata": {},
   "outputs": [],
   "source": [
    "# select the n first objects of each class\n",
    "#metadata_subset = metadata.groupby(['Image_Metadata_Compound']).head(2).reset_index(drop=True)\n",
    "metadata_subset = metadata.groupby(['moa']).head(2).reset_index(drop=True)\n",
    "#metadata_subset = metadata.groupby(['Image_Metadata_Well_DAPI']).head(2).reset_index(drop=True)\n"
   ]
  },
  {
   "cell_type": "code",
   "execution_count": 60,
   "id": "652ed290",
   "metadata": {},
   "outputs": [],
   "source": [
    "multi_cell_images_names = metadata_subset['Multi_Cell_Image_Name'].unique()"
   ]
  },
  {
   "cell_type": "code",
   "execution_count": 61,
   "id": "8ec03777",
   "metadata": {},
   "outputs": [],
   "source": [
    "if not os.path.exists(target_root):\n",
    "       os.makedirs(target_root)"
   ]
  },
  {
   "cell_type": "code",
   "execution_count": 62,
   "id": "23e95c8e-de53-4e07-87b9-8ccddce60567",
   "metadata": {},
   "outputs": [],
   "source": [
    "for folder in multi_cell_images_names:\n",
    "    if not os.path.exists(target_root + \"singh_cp_pipeline_singlecell_images/\" + folder):\n",
    "        os.makedirs(target_root + \"singh_cp_pipeline_singlecell_images/\" + folder)"
   ]
  },
  {
   "cell_type": "code",
   "execution_count": 63,
   "id": "8cf1eba0",
   "metadata": {},
   "outputs": [],
   "source": [
    "for ndx ,file in metadata_subset.iterrows():\n",
    "    src_file = source_root + \"singh_cp_pipeline_singlecell_images/\" + file['Multi_Cell_Image_Name'] + \"/\" + file['Multi_Cell_Image_Name'] + \"_\" + str(file['Single_Cell_Image_Id']) + \".npy\"\n",
    "    tgt_file = target_root + \"singh_cp_pipeline_singlecell_images/\" + file['Multi_Cell_Image_Name'] + \"/\" + file['Multi_Cell_Image_Name'] + \"_\" + str(file['Single_Cell_Image_Id']) + \".npy\"\n",
    "    shutil.copyfile(src_file, tgt_file)\n",
    "    #print(\"copied: \", src_file)\n"
   ]
  },
  {
   "cell_type": "code",
   "execution_count": 64,
   "id": "6358c0a1",
   "metadata": {},
   "outputs": [],
   "source": [
    "save_metadata(metadata_subset, target_root + \"metadata.csv\")\n",
    "\n"
   ]
  },
  {
   "cell_type": "code",
   "execution_count": null,
   "id": "ec33efff",
   "metadata": {},
   "outputs": [],
   "source": []
  },
  {
   "cell_type": "code",
   "execution_count": null,
   "id": "a6739752",
   "metadata": {},
   "outputs": [],
   "source": []
  }
 ],
 "metadata": {
  "kernelspec": {
   "display_name": "Python 3 (ipykernel)",
   "language": "python",
   "name": "python3"
  },
  "language_info": {
   "codemirror_mode": {
    "name": "ipython",
    "version": 3
   },
   "file_extension": ".py",
   "mimetype": "text/x-python",
   "name": "python",
   "nbconvert_exporter": "python",
   "pygments_lexer": "ipython3",
   "version": "3.10.7"
  },
  "vscode": {
   "interpreter": {
    "hash": "68522225d93d13b111ff813222a6ac18aa93ac4d99edb4c55ddb64e84c77af4b"
   }
  }
 },
 "nbformat": 4,
 "nbformat_minor": 5
}
