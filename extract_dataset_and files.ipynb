{
 "cells": [
  {
   "cell_type": "code",
   "execution_count": 56,
   "id": "2b8dc22f-d98b-4361-ba40-2ed323905904",
   "metadata": {},
   "outputs": [],
   "source": [
    "from gmfpp.utils.data_preparation import *\n",
    "import os\n",
    "import shutil"
   ]
  },
  {
   "cell_type": "code",
   "execution_count": 105,
   "id": "c7e147c7",
   "metadata": {},
   "outputs": [],
   "source": [
    "source_root = \"./data/all/\"\n",
    "target_root = \"./data/One_from_each_well/\"\n",
    "\n",
    "metadata = read_metadata(source_root + \"/metadata.csv\")\n",
    "metadata = drop_redundant_metadata_columns(metadata)"
   ]
  },
  {
   "cell_type": "code",
   "execution_count": 106,
   "id": "b6f5658c",
   "metadata": {},
   "outputs": [],
   "source": [
    "# select the n first objects of each class\n",
    "#metadata_subset = metadata.groupby(['moa']).head().reset_index(drop=True)\n",
    "#metadata_subset = metadata.groupby(['Image_Metadata_Compound']).head().reset_index(drop=True)\n",
    "metadata_subset = metadata.groupby(['Image_Metadata_Well_DAPI']).head().reset_index(drop=True)\n"
   ]
  },
  {
   "cell_type": "code",
   "execution_count": 107,
   "id": "652ed290",
   "metadata": {},
   "outputs": [],
   "source": [
    "multi_cell_images_names = metadata_subset['Multi_Cell_Image_Name'].unique()"
   ]
  },
  {
   "cell_type": "code",
   "execution_count": 108,
   "id": "8ec03777",
   "metadata": {},
   "outputs": [],
   "source": [
    "if not os.path.exists(target_root):\n",
    "       os.makedirs(target_root)"
   ]
  },
  {
   "cell_type": "code",
   "execution_count": 109,
   "id": "23e95c8e-de53-4e07-87b9-8ccddce60567",
   "metadata": {},
   "outputs": [],
   "source": [
    "for folder in multi_cell_images_names:\n",
    "    if not os.path.exists(target_root + \"singh_cp_pipeline_singlecell_images/\" + folder):\n",
    "        os.makedirs(target_root + \"singh_cp_pipeline_singlecell_images/\" + folder)"
   ]
  },
  {
   "cell_type": "code",
   "execution_count": 110,
   "id": "8cf1eba0",
   "metadata": {},
   "outputs": [],
   "source": [
    "for ndx ,file in metadata_subset[0:2].iterrows():\n",
    "    #print(file)\n",
    "    src_file = source_root + \"singh_cp_pipeline_singlecell_images/\" + file['Multi_Cell_Image_Name'] + \"/\" + file['Multi_Cell_Image_Name'] + \"_\" + str(file['Single_Cell_Image_Id']) + \".npy\"\n",
    "    tgt_file = target_root + \"singh_cp_pipeline_singlecell_images/\" + file['Multi_Cell_Image_Name'] + \"/\" + file['Multi_Cell_Image_Name'] + \"_\" + str(file['Single_Cell_Image_Id']) + \".npy\"\n",
    "    #print(os.path.exists(src_file), \"exists: \", src_file)\n",
    "    #print(os.path.exists(target_root+ \"singh_cp_pipeline_singlecell_images/\" + file['Multi_Cell_Image_Name']), \"exists: \", target_root+ \"singh_cp_pipeline_singlecell_images/\" + file['Multi_Cell_Image_Name'])\n",
    "    #print(tgt_file)\n",
    "    shutil.copyfile(src_file, tgt_file)\n"
   ]
  },
  {
   "cell_type": "code",
   "execution_count": 111,
   "id": "fd672e85-0877-4fe8-884b-033e4e35cebe",
   "metadata": {},
   "outputs": [
    {
     "name": "stdout",
     "output_type": "stream",
     "text": [
      "Extracting metadata from multi cell images (subfolders):\n",
      "['Week10_200907_B02_s1_w18E215662-2CF7-4739-93F3-DBD0C40B78DB'\n",
      " 'Week10_200907_B11_s1_w1306379D8-96D3-47EC-9BAD-3A5A17BA0136'\n",
      " 'Week10_200907_C02_s1_w160751543-AE48-4889-9B94-29A61EA96D96'\n",
      " 'Week10_200907_C05_s1_w1CCD0C22C-717E-4F62-8FF2-321361577967'\n",
      " 'Week10_200907_C06_s1_w1F2F3CEBD-0E25-4C61-87B3-D81E2FA4B519'\n",
      " 'Week10_200907_C07_s1_w16A261DAB-6041-46BB-99CF-B4E4E363CA32'\n",
      " 'Week10_200907_C08_s1_w14962D4AB-2A48-4B3B-BBE1-BEC85FB73FBA'\n",
      " 'Week10_200907_C09_s1_w19E788C35-6DD5-4B5B-A9CD-C8F7559B406C'\n",
      " 'Week10_200907_C11_s1_w1BC646158-8DEE-445D-A103-5271A870A1E0'\n",
      " 'Week10_200907_D02_s1_w1E8853E7D-940A-46CA-A42C-4B628D1E781F'\n",
      " 'Week10_200907_D04_s1_w18E3890A7-9F82-4414-970E-872A0A4C1729'\n",
      " 'Week10_200907_D05_s1_w1AFEAEE86-E462-46F7-A911-5E2F1C677D2B'\n",
      " 'Week10_200907_D06_s1_w112354DA7-1D7B-4649-A392-6B1482C44462'\n",
      " 'Week10_200907_D11_s1_w1DC9EA053-3E19-47C1-8D90-B02EF8E97C1B'\n",
      " 'Week10_200907_E02_s1_w1F9FF83F6-5E84-469F-B47F-F2AE9D8FA56E'\n",
      " 'Week10_200907_E11_s1_w121C4BE31-61CD-40CA-B36E-12268C7714FD'\n",
      " 'Week10_200907_F02_s1_w1DF5FDA94-5FCF-41B3-9656-A99A821ECE2D'\n",
      " 'Week10_200907_F11_s1_w17C421613-28A8-4E3B-814B-D9192EC3F5C7'\n",
      " 'Week10_200907_G02_s1_w17293B1EA-1AF7-4A90-B419-7A3D3E034B08'\n",
      " 'Week10_200907_G11_s1_w180EF6D52-516D-4ACD-8EAE-0F069E06302F'\n",
      " 'Week1_150607_B03_s1_w114129FBE-AB04-4F79-B8AF-CFA7D5524D53'\n",
      " 'Week1_150607_B04_s1_w11323931B-BDA7-4F42-870E-7174BFBF3643'\n",
      " 'Week1_150607_D03_s1_w14A046B2B-8EAA-4E70-8E95-56C0E0B9F363'\n",
      " 'Week1_150607_E03_s1_w1CC9CF6DE-5D49-485C-B53A-C5F23960F132'\n",
      " 'Week1_150607_E04_s1_w171BF0848-4027-44D3-B6B8-863C8523F226'\n",
      " 'Week1_150607_G03_s1_w1236CFFD0-928F-496F-B95E-E31FD9B5974A'\n",
      " 'Week1_150607_G04_s1_w16BB1F9C0-F2C2-41BF-A69A-EEC30D44CBB8'\n",
      " 'Week1_150607_G05_s1_w16CD4CE08-7601-41BB-95CC-0A109E9E050D'\n",
      " 'Week1_150607_G06_s1_w15338A7CB-2294-45EF-85B0-84CE3B779E9F'\n",
      " 'Week1_150607_G07_s1_w1104BC9E3-2271-47EB-AE8C-CA957F0005D5'\n",
      " 'Week1_150607_G08_s1_w1B6C24C30-E50D-4513-9B0A-1D33894E09CA'\n",
      " 'Week1_150607_B05_s1_w12F4AB0D9-2FD7-4563-BF1D-9B407D417CF9'\n",
      " 'Week1_150607_B06_s1_w135206D52-888A-4E3A-8005-FA314DE78C5A'\n",
      " 'Week1_150607_E07_s1_w1F5B6EF7C-BECC-4DBE-9474-5B7DBB58A927'\n",
      " 'Week3_290607_B07_s1_w1EA968982-07EF-4C4B-9D5E-1869A65891B0'\n",
      " 'Week3_290607_B08_s1_w139CA66D0-12A9-4787-82C4-D31A58C0C349'\n",
      " 'Week3_290607_B09_s1_w1241977F2-691D-49E6-84B1-56DDCB4CD47D'\n",
      " 'Week3_290607_B10_s1_w1FA8E96F0-D0D6-421B-8413-9B687A0B0FF7'\n",
      " 'Week3_290607_D07_s1_w155EEB313-F62F-454B-8C8D-72D4AD8B1AD3'\n",
      " 'Week3_290607_D08_s1_w122FEDCE7-9F5C-4E54-811F-29E22B376552'\n",
      " 'Week3_290607_D09_s1_w1202AE2B4-269B-4CC3-A731-E3345E73D8B1'\n",
      " 'Week3_290607_E06_s1_w168764F98-A87B-435F-BACC-B39DDE718341'\n",
      " 'Week3_290607_E08_s1_w1AF83F6BF-70E1-479E-8B17-C32791CEAB76'\n",
      " 'Week3_290607_F04_s1_w19989BEA1-94E8-4350-B73C-31624F43D607'\n",
      " 'Week3_290607_F05_s1_w1735369B9-37C8-4966-926E-38BAF042545E'\n",
      " 'Week3_290607_F06_s1_w12A7060FB-BF36-418A-A619-708035388CED'\n",
      " 'Week3_290607_F03_s1_w1108D32ED-CFFD-4879-9292-598E1AD945D9'\n",
      " 'Week7_230707_C04_s1_w1CDC72871-FFCA-4AD7-B9A9-5F09DD4ED4B1'\n",
      " 'Week8_4sites_C10_s1_w12487DD22-2F8A-4B26-9DBC-5CE26137809C'\n",
      " 'Week8_4sites_E05_s1_w1A046F130-6AA3-49A9-9F33-BC9BDD9FEAB9'\n",
      " 'Week9_090907_F09_s1_w1E164F1FB-A20C-49D6-ACDC-B7E1AE92AE5E'\n",
      " 'Week9_090907_F10_s1_w1A2464F17-6D7B-459B-8EA3-44AB557796F9']\n"
     ]
    }
   ],
   "source": [
    "print(\"Extracting metadata from multi cell images (subfolders):\")\n",
    "print(multi_cell_images_names)\n",
    "\n",
    "metadata_extract = filter_metadata_by_multi_cell_image_names(metadata, multi_cell_images_names)\n"
   ]
  },
  {
   "cell_type": "code",
   "execution_count": 112,
   "id": "6358c0a1",
   "metadata": {},
   "outputs": [],
   "source": [
    "save_metadata(metadata_extract, target_root + \"metadata.csv\")\n",
    "\n"
   ]
  },
  {
   "cell_type": "code",
   "execution_count": null,
   "id": "ec33efff",
   "metadata": {},
   "outputs": [],
   "source": []
  },
  {
   "cell_type": "code",
   "execution_count": null,
   "id": "a6739752",
   "metadata": {},
   "outputs": [],
   "source": []
  }
 ],
 "metadata": {
  "kernelspec": {
   "display_name": "Python 3.10.7 64-bit ('3.10.7')",
   "language": "python",
   "name": "python3"
  },
  "language_info": {
   "codemirror_mode": {
    "name": "ipython",
    "version": 3
   },
   "file_extension": ".py",
   "mimetype": "text/x-python",
   "name": "python",
   "nbconvert_exporter": "python",
   "pygments_lexer": "ipython3",
   "version": "3.10.7"
  },
  "vscode": {
   "interpreter": {
    "hash": "68522225d93d13b111ff813222a6ac18aa93ac4d99edb4c55ddb64e84c77af4b"
   }
  }
 },
 "nbformat": 4,
 "nbformat_minor": 5
}
