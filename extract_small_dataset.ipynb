{
 "cells": [
  {
   "cell_type": "code",
   "execution_count": 6,
   "id": "636e97bc-f6c1-4c82-b067-73c3b1cae9f2",
   "metadata": {},
   "outputs": [
    {
     "data": {
      "text/plain": [
       "'\\n1) Select a subset of rows in metadata.csv\\n2) Create new smal version of metadata and write it out\\n3) copy all files mentioned in smal metadata to output folder, for easier copying to deepnote.\\n'"
      ]
     },
     "execution_count": 6,
     "metadata": {},
     "output_type": "execute_result"
    }
   ],
   "source": [
    "\"\"\"\n",
    "1) Select a subset of rows in metadata.csv\n",
    "2) Create new smal version of metadata and write it out\n",
    "3) copy all files mentioned in smal metadata to output folder, for easier copying to deepnote.\n",
    "\"\"\""
   ]
  },
  {
   "cell_type": "code",
   "execution_count": 7,
   "id": "8a1ebf29-e4c4-48a8-b2f7-cd919a5224ef",
   "metadata": {},
   "outputs": [],
   "source": [
    "import numpy as np\n",
    "import shutil\n",
    "import os\n",
    "from gmfpp.data_preparation import *\n",
    "rootpath = \"../../\""
   ]
  },
  {
   "cell_type": "code",
   "execution_count": 8,
   "id": "6895d0a2-284e-432c-9f0d-a8a789bf2af4",
   "metadata": {},
   "outputs": [],
   "source": [
    "metadata = read_metadata(rootpath + \"data/metadata.csv\")"
   ]
  },
  {
   "cell_type": "code",
   "execution_count": 11,
   "id": "4d407899-ea8f-459e-b692-a7ed4fc7109e",
   "metadata": {},
   "outputs": [
    {
     "name": "stdout",
     "output_type": "stream",
     "text": [
      "['Week2_180607_C11_s2_w174B88ABC-6FC9-4287-83DC-330C8A13263D'\n",
      " 'B02_s1_w1FDD9356D-FF65-44C5-8B07-6BEC430F6014'\n",
      " 'B02_s1_w16F89C55C-7808-4136-82E4-E066F8E3CB10'\n",
      " 'B02_s2_w18894A89B-3736-4237-B423-1B5155F90BB0'\n",
      " 'B02_s1_w1E35EFE33-AB1C-4DB4-996B-D224E67F5C72'\n",
      " 'B02_s1_w1D9CCD4E7-65E8-4426-9178-A955453164C5'\n",
      " 'B02_s2_w125CF833D-7519-4E5D-A1A5-2A12E42E41E7'\n",
      " 'B02_s1_w1EA42BBDC-A8FA-44AB-A9B7-DA330F81E2A2'\n",
      " 'B02_s2_w156A83C2E-286E-4F75-A543-66F74D9B871C'\n",
      " 'B02_s1_w1B1A7ADEA-8896-4C7D-8C63-663265374B72'\n",
      " 'B02_s2_w1862F353D-3553-4582-8FA5-7ED3FDC48FA1']\n"
     ]
    }
   ],
   "source": [
    "metadata_subset=metadata[(metadata['Multi_Cell_Image_Id']<=10) | (metadata['Multi_Cell_Image_Id']==1305)]\n",
    "\n",
    "multi_cell_images_names = metadata_subset['Multi_Cell_Image_Name'].unique()\n",
    "#print(metadata[np.isin(metadata[\"Multi_Cell_Image_Name\"], multi_cell_images_names)]['Multi_Cell_Image_Id'])\n",
    "print(multi_cell_images_names)\n"
   ]
  },
  {
   "cell_type": "code",
   "execution_count": 12,
   "id": "fd5dcc05-67d2-40b1-811d-4a615816e505",
   "metadata": {},
   "outputs": [],
   "source": [
    "metadata = drop_redundant_metadata_columns(metadata)\n",
    "\n",
    "#multi_cell_images_names = [\"B02_s1_w1B1A7ADEA-8896-4C7D-8C63-663265374B72\"]\n",
    "metadata_small = filter_metadata_by_multi_cell_image_names(metadata, multi_cell_images_names)\n",
    "\n",
    "save_metadata(metadata_small, rootpath + \"data/metadata_small.csv\")\n",
    "\n"
   ]
  },
  {
   "cell_type": "code",
   "execution_count": null,
   "id": "d0c62cdf-a4df-4c0d-bed7-74a83dbabedb",
   "metadata": {},
   "outputs": [],
   "source": []
  },
  {
   "cell_type": "code",
   "execution_count": 13,
   "id": "dc8691a4-7978-4fe8-92f5-34fcd417392f",
   "metadata": {},
   "outputs": [],
   "source": [
    "# make copy of files that is to be uploaded\n",
    "relative_paths = get_relative_image_paths(metadata_small)\n",
    "image_paths = [rootpath + \"data/\" + path for path in relative_paths]\n",
    "\n",
    "    "
   ]
  },
  {
   "cell_type": "code",
   "execution_count": 14,
   "id": "781868ce-af75-420a-a231-72f73c96bccf",
   "metadata": {},
   "outputs": [],
   "source": [
    "if not (os.path.exists(rootpath + \"data/data_to_be_copied/singh_cp_pipeline_singlecell_images\")):\n",
    "    os.mkdir(rootpath + \"data/data_to_be_copied/singh_cp_pipeline_singlecell_images\")\n",
    "\n"
   ]
  },
  {
   "cell_type": "code",
   "execution_count": 15,
   "id": "376cfc11-8586-474f-a5c2-a52a6314befd",
   "metadata": {},
   "outputs": [],
   "source": [
    "subfolders = get_relative_image_folders(metadata_small)\n",
    "for subfolder in list(set(subfolders)):\n",
    "    if not (os.path.exists(rootpath + \"data/data_to_be_copied/\" + subfolder)):\n",
    "        os.mkdir(rootpath + \"data/data_to_be_copied/\" + subfolder)\n",
    "\n"
   ]
  },
  {
   "cell_type": "code",
   "execution_count": 16,
   "id": "8a0b6f7a-6732-48c7-8168-07dc5570b1ca",
   "metadata": {},
   "outputs": [],
   "source": [
    "for relative_path in relative_paths:    \n",
    "    from_path = rootpath + \"data/\" + relative_path\n",
    "    to_path = rootpath + \"data//data_to_be_copied/\" + relative_path\n",
    "    #print(from_path, to_path)\n",
    "    shutil.copyfile(from_path, to_path)\n"
   ]
  },
  {
   "cell_type": "code",
   "execution_count": null,
   "id": "1371b2e3-c166-4a5d-bff8-dc5bba44ac1d",
   "metadata": {},
   "outputs": [],
   "source": []
  }
 ],
 "metadata": {
  "kernelspec": {
   "display_name": "Python 3 (ipykernel)",
   "language": "python",
   "name": "python3"
  },
  "language_info": {
   "codemirror_mode": {
    "name": "ipython",
    "version": 3
   },
   "file_extension": ".py",
   "mimetype": "text/x-python",
   "name": "python",
   "nbconvert_exporter": "python",
   "pygments_lexer": "ipython3",
   "version": "3.10.7"
  }
 },
 "nbformat": 4,
 "nbformat_minor": 5
}
