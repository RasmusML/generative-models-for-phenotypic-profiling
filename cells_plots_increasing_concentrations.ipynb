{
  "cells": [
    {
      "cell_type": "markdown",
      "metadata": {
        "cell_id": "589e16cc31d7401ab943b894769ae3c0",
        "deepnote_cell_type": "markdown",
        "id": "UwdzCIv7uXFu"
      },
      "source": [
        "# Playground"
      ]
    },
    {
      "cell_type": "code",
      "source": [
        "from google.colab import drive\n",
        "drive.mount('/content/gdrive/')\n",
        "import sys\n",
        "sys.path.append('/content/gdrive/MyDrive/generative-models-for-phenotypic-profiling')\n",
        "%cd /content/gdrive/MyDrive/generative-models-for-phenotypic-profiling\n",
        "%pwd"
      ],
      "metadata": {
        "colab": {
          "base_uri": "https://localhost:8080/",
          "height": 73
        },
        "id": "NNqKzqRtxtnl",
        "outputId": "58d874f2-1652-4a02-d365-03e7e7015a70"
      },
      "execution_count": 55,
      "outputs": [
        {
          "output_type": "stream",
          "name": "stdout",
          "text": [
            "Drive already mounted at /content/gdrive/; to attempt to forcibly remount, call drive.mount(\"/content/gdrive/\", force_remount=True).\n",
            "/content/gdrive/MyDrive/generative-models-for-phenotypic-profiling\n"
          ]
        },
        {
          "output_type": "execute_result",
          "data": {
            "text/plain": [
              "'/content/gdrive/MyDrive/generative-models-for-phenotypic-profiling'"
            ],
            "application/vnd.google.colaboratory.intrinsic+json": {
              "type": "string"
            }
          },
          "metadata": {},
          "execution_count": 55
        }
      ]
    },
    {
      "cell_type": "code",
      "execution_count": 56,
      "metadata": {
        "cell_id": "95880210fc7842e19a3c6c0fa352f78a",
        "deepnote_cell_type": "code",
        "deepnote_to_be_reexecuted": false,
        "execution_millis": 106,
        "execution_start": 1668534607328,
        "source_hash": "c057d76e",
        "id": "s44NhIAiuXF-"
      },
      "outputs": [],
      "source": [
        "%matplotlib inline\n",
        "import matplotlib.pyplot as plt\n",
        "\n",
        "from typing import List, Set, Dict, Tuple, Optional, Any\n",
        "from collections import defaultdict\n",
        "\n",
        "import pandas as pd\n",
        "import seaborn as sns\n",
        "import numpy as np\n",
        "\n",
        "import math \n",
        "import torch\n",
        "from torch import nn, Tensor\n",
        "from torch.nn.functional import softplus, relu\n",
        "from torch.distributions import Distribution, Normal\n",
        "from torch.utils.data import DataLoader, Dataset\n",
        "\n",
        "\n",
        "from gmfpp.utils.data_preparation import *\n",
        "from gmfpp.utils.data_transformers import *\n",
        "from gmfpp.utils.plotting import *\n",
        "\n",
        "from gmfpp.models.ReparameterizedDiagonalGaussian import *\n",
        "from gmfpp.models.CytoVariationalAutoencoder import *\n",
        "from gmfpp.models.VariationalAutoencoder import *\n",
        "from gmfpp.models.ConvVariationalAutoencoder import *\n",
        "from gmfpp.models.VariationalInference import *\n",
        "from gmfpp.models.LoadModels import *"
      ]
    },
    {
      "cell_type": "code",
      "execution_count": 57,
      "metadata": {
        "id": "ZQsIvFX7uXGV"
      },
      "outputs": [],
      "source": [
        "def constant_seed(seed: int = 0):\n",
        "    torch.manual_seed(seed)\n",
        "    torch.cuda.manual_seed(seed)\n",
        "    np.random.seed(seed)"
      ]
    },
    {
      "cell_type": "code",
      "execution_count": 58,
      "metadata": {
        "id": "VBs40kB-uXGY"
      },
      "outputs": [],
      "source": [
        "constant_seed()"
      ]
    },
    {
      "cell_type": "code",
      "execution_count": 59,
      "metadata": {
        "colab": {
          "base_uri": "https://localhost:8080/"
        },
        "id": "kjAhV7lTuXGa",
        "outputId": "c99a693e-b192-483a-8f97-2ce2d160aee4"
      },
      "outputs": [
        {
          "output_type": "stream",
          "name": "stdout",
          "text": [
            "Using device: cpu\n"
          ]
        }
      ],
      "source": [
        "device = torch.device(\"cuda:0\" if torch.cuda.is_available() else \"cpu\")\n",
        "print(f\"Using device: {device}\")"
      ]
    },
    {
      "cell_type": "markdown",
      "metadata": {
        "cell_id": "5ccf34ec649449f9897718de613e77a3",
        "deepnote_cell_type": "markdown",
        "id": "mSKO-yCruXGh"
      },
      "source": [
        "## Load data"
      ]
    },
    {
      "cell_type": "code",
      "execution_count": 69,
      "metadata": {
        "cell_id": "7f138156e99b419da71decf6b0ddd537",
        "deepnote_cell_type": "code",
        "deepnote_to_be_reexecuted": false,
        "execution_millis": 70,
        "execution_start": 1668533823880,
        "source_hash": "f50043b7",
        "id": "nFhsDg3EuXGj"
      },
      "outputs": [],
      "source": [
        "#data_root = \"G:/My Drive/generative-models-for-phenotypic-profiling/data/New_two_multicells_two_moas\\\"\n",
        "data_root = \"data/mix_from_all/\"\n",
        "#data_root = \"data/two_multicells_two_moas/\"\n",
        "metadata_all = read_metadata(data_root + \"metadata.csv\")\n",
        "\n",
        "mapping = get_MOA_mappings(metadata_all)\n",
        "\n",
        "metadata = read_metadata(data_root + \"metadata.csv\")\n",
        "\n",
        "metadata = shuffle_metadata(metadata)\n",
        "metadata_train_all, metadata_test = split_metadata(metadata, split_fraction = .90)\n",
        "metadata_train, metadata_validation = split_metadata(metadata_train_all, split_fraction = .90)\n",
        "\n",
        "relative_path = get_relative_image_paths(metadata)\n",
        "image_paths = [data_root + path for path in relative_path]\n",
        "images = load_images(image_paths)"
      ]
    },
    {
      "cell_type": "code",
      "source": [
        "metadata.shape"
      ],
      "metadata": {
        "colab": {
          "base_uri": "https://localhost:8080/"
        },
        "id": "56FTf7kneLI0",
        "outputId": "37484b88-e188-4bac-d5a2-ee5d33fcfbc8"
      },
      "execution_count": 93,
      "outputs": [
        {
          "output_type": "execute_result",
          "data": {
            "text/plain": [
              "(1150, 19)"
            ]
          },
          "metadata": {},
          "execution_count": 93
        }
      ]
    },
    {
      "cell_type": "code",
      "source": [
        "images.shape"
      ],
      "metadata": {
        "colab": {
          "base_uri": "https://localhost:8080/"
        },
        "id": "WqcI0ZOZeNLp",
        "outputId": "39ac1176-b894-4786-cd32-dc626a2f2935"
      },
      "execution_count": 94,
      "outputs": [
        {
          "output_type": "execute_result",
          "data": {
            "text/plain": [
              "torch.Size([1150, 3, 68, 68])"
            ]
          },
          "metadata": {},
          "execution_count": 94
        }
      ]
    },
    {
      "cell_type": "code",
      "source": [
        "metadata.moa.unique()"
      ],
      "metadata": {
        "colab": {
          "base_uri": "https://localhost:8080/"
        },
        "id": "xakbU-X0edO_",
        "outputId": "aad0cb19-42f5-4ac7-eb14-5ed17e097f9c"
      },
      "execution_count": 96,
      "outputs": [
        {
          "output_type": "execute_result",
          "data": {
            "text/plain": [
              "array(['DNA replication', 'Aurora kinase inhibitors', 'DNA damage',\n",
              "       'Microtubule stabilizers', 'Microtubule destabilizers', 'DMSO',\n",
              "       'Cholesterol-lowering', 'Kinase inhibitors', 'Actin disruptors',\n",
              "       'Eg5 inhibitors', 'Epithelial', 'Protein degradation',\n",
              "       'Protein synthesis'], dtype=object)"
            ]
          },
          "metadata": {},
          "execution_count": 96
        }
      ]
    },
    {
      "cell_type": "code",
      "source": [
        "#metadata_subset = metadata.loc[metadata['moa'] == 'Microtubule stabilizers']\n",
        "#metadata_subset_small = metadata_subset.sample(frac=1).drop_duplicates(['Image_Metadata_Concentration']).sort_values(by=['Image_Metadata_Concentration']) this works!\n",
        "\n",
        "metadata_subset = metadata.loc[(metadata['TableNumber'] == 9) & (metadata['moa'] == 'Cholesterol-lowering')]\n",
        "metadata_subset_small = metadata_subset.sample(frac=1).drop_duplicates(['Image_Metadata_Concentration']) #.sort_values(by=['Image_Metadata_Concentration'])"
      ],
      "metadata": {
        "id": "WtmxgAaXfrl2"
      },
      "execution_count": 209,
      "outputs": []
    },
    {
      "cell_type": "code",
      "source": [
        "metadata_subset_small.head()"
      ],
      "metadata": {
        "colab": {
          "base_uri": "https://localhost:8080/",
          "height": 374
        },
        "id": "pyKcNOD7rlQk",
        "outputId": "28d7dcd0-767b-4214-80b3-94de1b957c9b"
      },
      "execution_count": 210,
      "outputs": [
        {
          "output_type": "execute_result",
          "data": {
            "text/plain": [
              "     Unnamed: 0  Multi_Cell_Image_Id  \\\n",
              "365      475832                 3591   \n",
              "66       475763                 3581   \n",
              "522      476138                 3605   \n",
              "793      457941                 3686   \n",
              "872      457634                 3674   \n",
              "\n",
              "                                 Multi_Cell_Image_Name  Single_Cell_Image_Id  \\\n",
              "365  Week9_090907_D04_s1_w133946D18-DCB1-4A8A-B66A-...                     1   \n",
              "66   Week9_090907_D03_s1_w1E7982D20-6285-4ABD-99C2-...                     4   \n",
              "522  Week9_090907_D05_s1_w1EEC0CCCB-89B7-489F-9E5F-...                     3   \n",
              "793  Week9_090907_E06_s1_w163684C94-A72B-4793-BA59-...                     4   \n",
              "872  Week9_090907_E05_s1_w163C4CC50-9666-4A88-BE51-...                     1   \n",
              "\n",
              "                                Single_Cell_Image_Name  TableNumber  \\\n",
              "365  Week9_090907_D04_s1_w133946D18-DCB1-4A8A-B66A-...            9   \n",
              "66   Week9_090907_D03_s1_w1E7982D20-6285-4ABD-99C2-...            9   \n",
              "522  Week9_090907_D05_s1_w1EEC0CCCB-89B7-489F-9E5F-...            9   \n",
              "793  Week9_090907_E06_s1_w163684C94-A72B-4793-BA59-...            9   \n",
              "872  Week9_090907_E05_s1_w163C4CC50-9666-4A88-BE51-...            9   \n",
              "\n",
              "     ImageNumber                                Image_FileName_DAPI  \\\n",
              "365         2969  Week9_090907_D04_s1_w133946D18-DCB1-4A8A-B66A-...   \n",
              "66          2965  Week9_090907_D03_s1_w1E7982D20-6285-4ABD-99C2-...   \n",
              "522         2973  Week9_090907_D05_s1_w1EEC0CCCB-89B7-489F-9E5F-...   \n",
              "793          137  Week9_090907_E06_s1_w163684C94-A72B-4793-BA59-...   \n",
              "872          133  Week9_090907_E05_s1_w163C4CC50-9666-4A88-BE51-...   \n",
              "\n",
              "    Image_PathName_DAPI                             Image_FileName_Tubulin  \\\n",
              "365         Week9_39282  Week9_090907_D04_s1_w261203E65-A8FB-42CF-9E53-...   \n",
              "66          Week9_39282  Week9_090907_D03_s1_w2E2DCFD07-C816-4838-A20C-...   \n",
              "522         Week9_39282  Week9_090907_D05_s1_w2E29C9C3C-B744-4A0A-A090-...   \n",
              "793         Week9_39206  Week9_090907_E06_s1_w27330A57E-C0CF-49BE-BE3A-...   \n",
              "872         Week9_39206  Week9_090907_E05_s1_w2625B2A51-637D-4E4D-A113-...   \n",
              "\n",
              "    Image_PathName_Tubulin                               Image_FileName_Actin  \\\n",
              "365            Week9_39282  Week9_090907_D04_s1_w44845EAAD-331F-4698-8F17-...   \n",
              "66             Week9_39282  Week9_090907_D03_s1_w4BFD56527-7A9A-4BEB-9620-...   \n",
              "522            Week9_39282  Week9_090907_D05_s1_w4FC6312B1-D48B-4FDE-89FF-...   \n",
              "793            Week9_39206  Week9_090907_E06_s1_w425F7651C-031F-43E5-BA4C-...   \n",
              "872            Week9_39206  Week9_090907_E05_s1_w4B3CCC949-7812-4640-8A54-...   \n",
              "\n",
              "    Image_PathName_Actin Image_Metadata_Plate_DAPI Image_Metadata_Well_DAPI  \\\n",
              "365          Week9_39282               Week9_39282                      D04   \n",
              "66           Week9_39282               Week9_39282                      D03   \n",
              "522          Week9_39282               Week9_39282                      D05   \n",
              "793          Week9_39206               Week9_39206                      E06   \n",
              "872          Week9_39206               Week9_39206                      E05   \n",
              "\n",
              "     Replicate Image_Metadata_Compound  Image_Metadata_Concentration  \\\n",
              "365          1             simvastatin                           6.0   \n",
              "66           1             simvastatin                          20.0   \n",
              "522          1             simvastatin                           2.0   \n",
              "793          1    mevinolin/lovastatin                           1.5   \n",
              "872          1    mevinolin/lovastatin                           5.0   \n",
              "\n",
              "                      moa  \n",
              "365  Cholesterol-lowering  \n",
              "66   Cholesterol-lowering  \n",
              "522  Cholesterol-lowering  \n",
              "793  Cholesterol-lowering  \n",
              "872  Cholesterol-lowering  "
            ],
            "text/html": [
              "\n",
              "  <div id=\"df-e30de461-bd34-48fe-a76c-c6bc3f65a096\">\n",
              "    <div class=\"colab-df-container\">\n",
              "      <div>\n",
              "<style scoped>\n",
              "    .dataframe tbody tr th:only-of-type {\n",
              "        vertical-align: middle;\n",
              "    }\n",
              "\n",
              "    .dataframe tbody tr th {\n",
              "        vertical-align: top;\n",
              "    }\n",
              "\n",
              "    .dataframe thead th {\n",
              "        text-align: right;\n",
              "    }\n",
              "</style>\n",
              "<table border=\"1\" class=\"dataframe\">\n",
              "  <thead>\n",
              "    <tr style=\"text-align: right;\">\n",
              "      <th></th>\n",
              "      <th>Unnamed: 0</th>\n",
              "      <th>Multi_Cell_Image_Id</th>\n",
              "      <th>Multi_Cell_Image_Name</th>\n",
              "      <th>Single_Cell_Image_Id</th>\n",
              "      <th>Single_Cell_Image_Name</th>\n",
              "      <th>TableNumber</th>\n",
              "      <th>ImageNumber</th>\n",
              "      <th>Image_FileName_DAPI</th>\n",
              "      <th>Image_PathName_DAPI</th>\n",
              "      <th>Image_FileName_Tubulin</th>\n",
              "      <th>Image_PathName_Tubulin</th>\n",
              "      <th>Image_FileName_Actin</th>\n",
              "      <th>Image_PathName_Actin</th>\n",
              "      <th>Image_Metadata_Plate_DAPI</th>\n",
              "      <th>Image_Metadata_Well_DAPI</th>\n",
              "      <th>Replicate</th>\n",
              "      <th>Image_Metadata_Compound</th>\n",
              "      <th>Image_Metadata_Concentration</th>\n",
              "      <th>moa</th>\n",
              "    </tr>\n",
              "  </thead>\n",
              "  <tbody>\n",
              "    <tr>\n",
              "      <th>365</th>\n",
              "      <td>475832</td>\n",
              "      <td>3591</td>\n",
              "      <td>Week9_090907_D04_s1_w133946D18-DCB1-4A8A-B66A-...</td>\n",
              "      <td>1</td>\n",
              "      <td>Week9_090907_D04_s1_w133946D18-DCB1-4A8A-B66A-...</td>\n",
              "      <td>9</td>\n",
              "      <td>2969</td>\n",
              "      <td>Week9_090907_D04_s1_w133946D18-DCB1-4A8A-B66A-...</td>\n",
              "      <td>Week9_39282</td>\n",
              "      <td>Week9_090907_D04_s1_w261203E65-A8FB-42CF-9E53-...</td>\n",
              "      <td>Week9_39282</td>\n",
              "      <td>Week9_090907_D04_s1_w44845EAAD-331F-4698-8F17-...</td>\n",
              "      <td>Week9_39282</td>\n",
              "      <td>Week9_39282</td>\n",
              "      <td>D04</td>\n",
              "      <td>1</td>\n",
              "      <td>simvastatin</td>\n",
              "      <td>6.0</td>\n",
              "      <td>Cholesterol-lowering</td>\n",
              "    </tr>\n",
              "    <tr>\n",
              "      <th>66</th>\n",
              "      <td>475763</td>\n",
              "      <td>3581</td>\n",
              "      <td>Week9_090907_D03_s1_w1E7982D20-6285-4ABD-99C2-...</td>\n",
              "      <td>4</td>\n",
              "      <td>Week9_090907_D03_s1_w1E7982D20-6285-4ABD-99C2-...</td>\n",
              "      <td>9</td>\n",
              "      <td>2965</td>\n",
              "      <td>Week9_090907_D03_s1_w1E7982D20-6285-4ABD-99C2-...</td>\n",
              "      <td>Week9_39282</td>\n",
              "      <td>Week9_090907_D03_s1_w2E2DCFD07-C816-4838-A20C-...</td>\n",
              "      <td>Week9_39282</td>\n",
              "      <td>Week9_090907_D03_s1_w4BFD56527-7A9A-4BEB-9620-...</td>\n",
              "      <td>Week9_39282</td>\n",
              "      <td>Week9_39282</td>\n",
              "      <td>D03</td>\n",
              "      <td>1</td>\n",
              "      <td>simvastatin</td>\n",
              "      <td>20.0</td>\n",
              "      <td>Cholesterol-lowering</td>\n",
              "    </tr>\n",
              "    <tr>\n",
              "      <th>522</th>\n",
              "      <td>476138</td>\n",
              "      <td>3605</td>\n",
              "      <td>Week9_090907_D05_s1_w1EEC0CCCB-89B7-489F-9E5F-...</td>\n",
              "      <td>3</td>\n",
              "      <td>Week9_090907_D05_s1_w1EEC0CCCB-89B7-489F-9E5F-...</td>\n",
              "      <td>9</td>\n",
              "      <td>2973</td>\n",
              "      <td>Week9_090907_D05_s1_w1EEC0CCCB-89B7-489F-9E5F-...</td>\n",
              "      <td>Week9_39282</td>\n",
              "      <td>Week9_090907_D05_s1_w2E29C9C3C-B744-4A0A-A090-...</td>\n",
              "      <td>Week9_39282</td>\n",
              "      <td>Week9_090907_D05_s1_w4FC6312B1-D48B-4FDE-89FF-...</td>\n",
              "      <td>Week9_39282</td>\n",
              "      <td>Week9_39282</td>\n",
              "      <td>D05</td>\n",
              "      <td>1</td>\n",
              "      <td>simvastatin</td>\n",
              "      <td>2.0</td>\n",
              "      <td>Cholesterol-lowering</td>\n",
              "    </tr>\n",
              "    <tr>\n",
              "      <th>793</th>\n",
              "      <td>457941</td>\n",
              "      <td>3686</td>\n",
              "      <td>Week9_090907_E06_s1_w163684C94-A72B-4793-BA59-...</td>\n",
              "      <td>4</td>\n",
              "      <td>Week9_090907_E06_s1_w163684C94-A72B-4793-BA59-...</td>\n",
              "      <td>9</td>\n",
              "      <td>137</td>\n",
              "      <td>Week9_090907_E06_s1_w163684C94-A72B-4793-BA59-...</td>\n",
              "      <td>Week9_39206</td>\n",
              "      <td>Week9_090907_E06_s1_w27330A57E-C0CF-49BE-BE3A-...</td>\n",
              "      <td>Week9_39206</td>\n",
              "      <td>Week9_090907_E06_s1_w425F7651C-031F-43E5-BA4C-...</td>\n",
              "      <td>Week9_39206</td>\n",
              "      <td>Week9_39206</td>\n",
              "      <td>E06</td>\n",
              "      <td>1</td>\n",
              "      <td>mevinolin/lovastatin</td>\n",
              "      <td>1.5</td>\n",
              "      <td>Cholesterol-lowering</td>\n",
              "    </tr>\n",
              "    <tr>\n",
              "      <th>872</th>\n",
              "      <td>457634</td>\n",
              "      <td>3674</td>\n",
              "      <td>Week9_090907_E05_s1_w163C4CC50-9666-4A88-BE51-...</td>\n",
              "      <td>1</td>\n",
              "      <td>Week9_090907_E05_s1_w163C4CC50-9666-4A88-BE51-...</td>\n",
              "      <td>9</td>\n",
              "      <td>133</td>\n",
              "      <td>Week9_090907_E05_s1_w163C4CC50-9666-4A88-BE51-...</td>\n",
              "      <td>Week9_39206</td>\n",
              "      <td>Week9_090907_E05_s1_w2625B2A51-637D-4E4D-A113-...</td>\n",
              "      <td>Week9_39206</td>\n",
              "      <td>Week9_090907_E05_s1_w4B3CCC949-7812-4640-8A54-...</td>\n",
              "      <td>Week9_39206</td>\n",
              "      <td>Week9_39206</td>\n",
              "      <td>E05</td>\n",
              "      <td>1</td>\n",
              "      <td>mevinolin/lovastatin</td>\n",
              "      <td>5.0</td>\n",
              "      <td>Cholesterol-lowering</td>\n",
              "    </tr>\n",
              "  </tbody>\n",
              "</table>\n",
              "</div>\n",
              "      <button class=\"colab-df-convert\" onclick=\"convertToInteractive('df-e30de461-bd34-48fe-a76c-c6bc3f65a096')\"\n",
              "              title=\"Convert this dataframe to an interactive table.\"\n",
              "              style=\"display:none;\">\n",
              "        \n",
              "  <svg xmlns=\"http://www.w3.org/2000/svg\" height=\"24px\"viewBox=\"0 0 24 24\"\n",
              "       width=\"24px\">\n",
              "    <path d=\"M0 0h24v24H0V0z\" fill=\"none\"/>\n",
              "    <path d=\"M18.56 5.44l.94 2.06.94-2.06 2.06-.94-2.06-.94-.94-2.06-.94 2.06-2.06.94zm-11 1L8.5 8.5l.94-2.06 2.06-.94-2.06-.94L8.5 2.5l-.94 2.06-2.06.94zm10 10l.94 2.06.94-2.06 2.06-.94-2.06-.94-.94-2.06-.94 2.06-2.06.94z\"/><path d=\"M17.41 7.96l-1.37-1.37c-.4-.4-.92-.59-1.43-.59-.52 0-1.04.2-1.43.59L10.3 9.45l-7.72 7.72c-.78.78-.78 2.05 0 2.83L4 21.41c.39.39.9.59 1.41.59.51 0 1.02-.2 1.41-.59l7.78-7.78 2.81-2.81c.8-.78.8-2.07 0-2.86zM5.41 20L4 18.59l7.72-7.72 1.47 1.35L5.41 20z\"/>\n",
              "  </svg>\n",
              "      </button>\n",
              "      \n",
              "  <style>\n",
              "    .colab-df-container {\n",
              "      display:flex;\n",
              "      flex-wrap:wrap;\n",
              "      gap: 12px;\n",
              "    }\n",
              "\n",
              "    .colab-df-convert {\n",
              "      background-color: #E8F0FE;\n",
              "      border: none;\n",
              "      border-radius: 50%;\n",
              "      cursor: pointer;\n",
              "      display: none;\n",
              "      fill: #1967D2;\n",
              "      height: 32px;\n",
              "      padding: 0 0 0 0;\n",
              "      width: 32px;\n",
              "    }\n",
              "\n",
              "    .colab-df-convert:hover {\n",
              "      background-color: #E2EBFA;\n",
              "      box-shadow: 0px 1px 2px rgba(60, 64, 67, 0.3), 0px 1px 3px 1px rgba(60, 64, 67, 0.15);\n",
              "      fill: #174EA6;\n",
              "    }\n",
              "\n",
              "    [theme=dark] .colab-df-convert {\n",
              "      background-color: #3B4455;\n",
              "      fill: #D2E3FC;\n",
              "    }\n",
              "\n",
              "    [theme=dark] .colab-df-convert:hover {\n",
              "      background-color: #434B5C;\n",
              "      box-shadow: 0px 1px 3px 1px rgba(0, 0, 0, 0.15);\n",
              "      filter: drop-shadow(0px 1px 2px rgba(0, 0, 0, 0.3));\n",
              "      fill: #FFFFFF;\n",
              "    }\n",
              "  </style>\n",
              "\n",
              "      <script>\n",
              "        const buttonEl =\n",
              "          document.querySelector('#df-e30de461-bd34-48fe-a76c-c6bc3f65a096 button.colab-df-convert');\n",
              "        buttonEl.style.display =\n",
              "          google.colab.kernel.accessAllowed ? 'block' : 'none';\n",
              "\n",
              "        async function convertToInteractive(key) {\n",
              "          const element = document.querySelector('#df-e30de461-bd34-48fe-a76c-c6bc3f65a096');\n",
              "          const dataTable =\n",
              "            await google.colab.kernel.invokeFunction('convertToInteractive',\n",
              "                                                     [key], {});\n",
              "          if (!dataTable) return;\n",
              "\n",
              "          const docLinkHtml = 'Like what you see? Visit the ' +\n",
              "            '<a target=\"_blank\" href=https://colab.research.google.com/notebooks/data_table.ipynb>data table notebook</a>'\n",
              "            + ' to learn more about interactive tables.';\n",
              "          element.innerHTML = '';\n",
              "          dataTable['output_type'] = 'display_data';\n",
              "          await google.colab.output.renderOutput(dataTable, element);\n",
              "          const docLink = document.createElement('div');\n",
              "          docLink.innerHTML = docLinkHtml;\n",
              "          element.appendChild(docLink);\n",
              "        }\n",
              "      </script>\n",
              "    </div>\n",
              "  </div>\n",
              "  "
            ]
          },
          "metadata": {},
          "execution_count": 210
        }
      ]
    },
    {
      "cell_type": "code",
      "source": [
        "metadata_subset_small.index"
      ],
      "metadata": {
        "colab": {
          "base_uri": "https://localhost:8080/"
        },
        "id": "E73GI1GTg0ZT",
        "outputId": "a6744dae-5bc7-4313-ed1c-7c090adc24c8"
      },
      "execution_count": 195,
      "outputs": [
        {
          "output_type": "execute_result",
          "data": {
            "text/plain": [
              "Int64Index([1061, 925, 964, 6, 612, 197], dtype='int64')"
            ]
          },
          "metadata": {},
          "execution_count": 195
        }
      ]
    },
    {
      "cell_type": "markdown",
      "source": [],
      "metadata": {
        "id": "ba178ck41DMe"
      }
    },
    {
      "cell_type": "code",
      "source": [
        "images_tuple = ()\n",
        "for i in metadata_subset_small.index:\n",
        "    idx = str(i)\n",
        "    images_tuple = images_tuple + (images[i],)"
      ],
      "metadata": {
        "id": "sKA3XKIUp4WC"
      },
      "execution_count": 196,
      "outputs": []
    },
    {
      "cell_type": "code",
      "source": [
        "images_subset_small = torch.stack(images_tuple) #, dim=0)"
      ],
      "metadata": {
        "id": "pETL2DDKiW0l"
      },
      "execution_count": 197,
      "outputs": []
    },
    {
      "cell_type": "code",
      "source": [
        "normalize_channels_inplace(images_subset_small)\n"
      ],
      "metadata": {
        "id": "orDsU8eQfbc5"
      },
      "execution_count": 204,
      "outputs": []
    },
    {
      "cell_type": "code",
      "source": [
        "for i in images_subset_small:\n",
        "  plot_image(i)"
      ],
      "metadata": {
        "colab": {
          "base_uri": "https://localhost:8080/",
          "height": 1000
        },
        "id": "Eif7P3-Lnsek",
        "outputId": "4ef10cd2-324c-4614-b57b-6f80a5fa6090"
      },
      "execution_count": 206,
      "outputs": [
        {
          "output_type": "display_data",
          "data": {
            "text/plain": [
              "<Figure size 432x288 with 1 Axes>"
            ],
            "image/png": "[encoded data removed]"
          },
          "metadata": {
            "needs_background": "light"
          }
        },
        {
          "output_type": "display_data",
          "data": {
            "text/plain": [
              "<Figure size 432x288 with 1 Axes>"
            ],
            "image/png": "[encoded data removed]"
          },
          "metadata": {
            "needs_background": "light"
          }
        },
        {
          "output_type": "display_data",
          "data": {
            "text/plain": [
              "<Figure size 432x288 with 1 Axes>"
            ],
            "image/png": "[encoded data removed]"
          },
          "metadata": {
            "needs_background": "light"
          }
        },
        {
          "output_type": "display_data",
          "data": {
            "text/plain": [
              "<Figure size 432x288 with 1 Axes>"
            ],
            "image/png": "[encoded data removed]"
          },
          "metadata": {
            "needs_background": "light"
          }
        },
        {
          "output_type": "display_data",
          "data": {
            "text/plain": [
              "<Figure size 432x288 with 1 Axes>"
            ],
            "image/png": "[encoded data removed]"
          },
          "metadata": {
            "needs_background": "light"
          }
        },
        {
          "output_type": "display_data",
          "data": {
            "text/plain": [
              "<Figure size 432x288 with 1 Axes>"
            ],
            "image/png": "[encoded data removed]"
          },
          "metadata": {
            "needs_background": "light"
          }
        }
      ]
    },
    {
      "cell_type": "code",
      "source": [],
      "metadata": {
        "id": "YbI3xkw5TEjt"
      },
      "execution_count": null,
      "outputs": []
    }
  ],
  "metadata": {
    "deepnote": {},
    "deepnote_execution_queue": [],
    "deepnote_notebook_id": "d2059ce0701f4cb4bc01ee931dc0f39b",
    "deepnote_persisted_session": {
      "createdAt": "2022-11-14T22:47:34.652Z"
    },
    "kernelspec": {
      "display_name": "Python 3 (ipykernel)",
      "language": "python",
      "name": "python3"
    },
    "language_info": {
      "codemirror_mode": {
        "name": "ipython",
        "version": 3
      },
      "file_extension": ".py",
      "mimetype": "text/x-python",
      "name": "python",
      "nbconvert_exporter": "python",
      "pygments_lexer": "ipython3",
      "version": "3.10.7"
    },
    "colab": {
      "provenance": []
    }
  },
  "nbformat": 4,
  "nbformat_minor": 0
}